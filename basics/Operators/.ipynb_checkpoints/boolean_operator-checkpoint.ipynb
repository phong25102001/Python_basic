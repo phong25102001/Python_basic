{
 "cells": [
  {
   "cell_type": "code",
   "execution_count": 5,
   "id": "da8c1091",
   "metadata": {},
   "outputs": [
    {
     "name": "stdout",
     "output_type": "stream",
     "text": [
      "true_func: \n",
      "True\n",
      "\n",
      "false_func: \n",
      "true_func: \n",
      "True\n"
     ]
    }
   ],
   "source": [
    "def true_func():\n",
    "    print(\"true_func: \")\n",
    "    return True\n",
    "\n",
    "def false_func():\n",
    "    print(\"false_func: \")\n",
    "    return False\n",
    "\n",
    "print(true_func() or false_func(), end='\\n\\n') #just executes true_func\n",
    "print(false_func() or true_func()) # executes two funcs\n"
   ]
  },
  {
   "cell_type": "code",
   "execution_count": 6,
   "id": "72c34058",
   "metadata": {},
   "outputs": [
    {
     "data": {
      "text/plain": [
       "True"
      ]
     },
     "execution_count": 6,
     "metadata": {},
     "output_type": "execute_result"
    }
   ],
   "source": [
    "def check_near_pi(x):\n",
    "    if 3.14 < x < 3.142:\n",
    "        return True\n",
    "    else:\n",
    "        return False\n",
    "\n",
    "check_near_pi(3.14159)"
   ]
  },
  {
   "cell_type": "code",
   "execution_count": 8,
   "id": "150bc7d0",
   "metadata": {},
   "outputs": [
    {
     "name": "stdout",
     "output_type": "stream",
     "text": [
      "0\n",
      "False\n"
     ]
    }
   ],
   "source": [
    "print(1 and 0) # not return True or False\n",
    "print(True and False)"
   ]
  },
  {
   "cell_type": "code",
   "execution_count": 10,
   "id": "83a3ed83",
   "metadata": {},
   "outputs": [
    {
     "name": "stdout",
     "output_type": "stream",
     "text": [
      "1\n",
      "True\n"
     ]
    }
   ],
   "source": [
    "print(1 or 0)\n",
    "print(True or False)"
   ]
  },
  {
   "cell_type": "code",
   "execution_count": 13,
   "id": "b07fb8f1",
   "metadata": {},
   "outputs": [
    {
     "name": "stdout",
     "output_type": "stream",
     "text": [
      "False\n",
      "True\n"
     ]
    }
   ],
   "source": [
    "print(not 1) # return False \n",
    "print(not False)"
   ]
  },
  {
   "cell_type": "code",
   "execution_count": null,
   "id": "c2d002b4",
   "metadata": {},
   "outputs": [],
   "source": []
  }
 ],
 "metadata": {
  "kernelspec": {
   "display_name": "Python 3",
   "language": "python",
   "name": "python3"
  },
  "language_info": {
   "codemirror_mode": {
    "name": "ipython",
    "version": 3
   },
   "file_extension": ".py",
   "mimetype": "text/x-python",
   "name": "python",
   "nbconvert_exporter": "python",
   "pygments_lexer": "ipython3",
   "version": "3.8.8"
  }
 },
 "nbformat": 4,
 "nbformat_minor": 5
}
