{
 "cells": [
  {
   "cell_type": "markdown",
   "id": "bee64fa1",
   "metadata": {},
   "source": [
    "Addition"
   ]
  },
  {
   "cell_type": "code",
   "execution_count": 3,
   "id": "af106dd9",
   "metadata": {},
   "outputs": [
    {
     "name": "stdout",
     "output_type": "stream",
     "text": [
      "3\n",
      "3\n"
     ]
    }
   ],
   "source": [
    "a, b = 1, 2\n",
    "\n",
    "print(a + b)\n",
    "\n",
    "a += b # update a = a + b\n",
    "print(a)"
   ]
  },
  {
   "cell_type": "code",
   "execution_count": 7,
   "id": "226fe379",
   "metadata": {},
   "outputs": [
    {
     "name": "stdout",
     "output_type": "stream",
     "text": [
      "5\n",
      "5 2\n"
     ]
    }
   ],
   "source": [
    "import operator \n",
    "print(operator.add(a, b)) # 3 + 2\n",
    "a = operator.iadd(a, b) # a = a + b\n",
    "print(a, b)"
   ]
  },
  {
   "cell_type": "code",
   "execution_count": 8,
   "id": "78710c72",
   "metadata": {},
   "outputs": [
    {
     "data": {
      "text/plain": [
       "[1, 2, 3, 4, 5, 6]"
      ]
     },
     "execution_count": 8,
     "metadata": {},
     "output_type": "execute_result"
    }
   ],
   "source": [
    "\"first string \" + \"second string\" # = 'first string second string'\n",
    "[1, 2, 3] + [4, 5, 6] # = [1, 2, 3, 4, 5, 6]"
   ]
  },
  {
   "cell_type": "markdown",
   "id": "54e8fd4f",
   "metadata": {},
   "source": [
    "Exponentiation"
   ]
  },
  {
   "cell_type": "code",
   "execution_count": 17,
   "id": "66226504",
   "metadata": {},
   "outputs": [
    {
     "name": "stdout",
     "output_type": "stream",
     "text": [
      "8 == 8\n",
      "(-0.999937572181651+0.01117370750760518j)\n"
     ]
    },
    {
     "data": {
      "text/plain": [
       "8"
      ]
     },
     "execution_count": 17,
     "metadata": {},
     "output_type": "execute_result"
    }
   ],
   "source": [
    "a, b = 2, 3\n",
    "print(\"{} == {}\".format(a**b, pow(a, b)))\n",
    "print(2.71**(0+3.14j))\n",
    "\n",
    "import math\n",
    "math.pow(a, b) # = 8.0 (always float; does not allow complex results)\n",
    "import operator\n",
    "operator.pow(a, b) # = 8"
   ]
  },
  {
   "cell_type": "code",
   "execution_count": 18,
   "id": "dd717a33",
   "metadata": {},
   "outputs": [
    {
     "data": {
      "text/plain": [
       "0"
      ]
     },
     "execution_count": 18,
     "metadata": {},
     "output_type": "execute_result"
    }
   ],
   "source": [
    "pow(2,3,2) # (2**3) % "
   ]
  },
  {
   "cell_type": "code",
   "execution_count": 19,
   "id": "f8875731",
   "metadata": {},
   "outputs": [
    {
     "data": {
      "text/plain": [
       "(2+0j)"
      ]
     },
     "execution_count": 19,
     "metadata": {},
     "output_type": "execute_result"
    }
   ],
   "source": [
    "# special exponentiation\n",
    "import math\n",
    "import cmath\n",
    "c = 4\n",
    "math.sqrt(c) # = 2.0 (always float; does not allow complex results)\n",
    "cmath.sqrt(c) # = (2+0j) (always complex)"
   ]
  },
  {
   "cell_type": "code",
   "execution_count": 20,
   "id": "06d8623c",
   "metadata": {},
   "outputs": [
    {
     "data": {
      "text/plain": [
       "2.0"
      ]
     },
     "execution_count": 20,
     "metadata": {},
     "output_type": "execute_result"
    }
   ],
   "source": [
    "# root\n",
    "import math\n",
    "x = 8\n",
    "math.pow(x, 1/3) # evaluates to 2.0\n",
    "x**(1/3) # evaluates to 2.0"
   ]
  },
  {
   "cell_type": "code",
   "execution_count": 21,
   "id": "8d8f84d6",
   "metadata": {},
   "outputs": [
    {
     "data": {
      "text/plain": [
       "2.718281828459045"
      ]
     },
     "execution_count": 21,
     "metadata": {},
     "output_type": "execute_result"
    }
   ],
   "source": [
    "# e^x\n",
    "math.exp(0) # 1.0\n",
    "math.exp(1) # 2.718281828459045 (e)"
   ]
  },
  {
   "cell_type": "code",
   "execution_count": 22,
   "id": "d699730a",
   "metadata": {},
   "outputs": [
    {
     "data": {
      "text/plain": [
       "1.0000005000001665e-06"
      ]
     },
     "execution_count": 22,
     "metadata": {},
     "output_type": "execute_result"
    }
   ],
   "source": [
    "# exp1 == e^x - 1 \n",
    "math.expm1(0) # 0.0\n",
    "math.exp(1e-6) - 1 # 1.0000004999621837e-06\n",
    "math.expm1(1e-6) # 1.0000005000001665e-06\n",
    "# exact result # 1.000000500000166666708333341666..."
   ]
  },
  {
   "cell_type": "markdown",
   "id": "0f5be190",
   "metadata": {},
   "source": [
    "Trigonometric Functions"
   ]
  },
  {
   "cell_type": "code",
   "execution_count": 23,
   "id": "4b908d92",
   "metadata": {},
   "outputs": [
    {
     "data": {
      "text/plain": [
       "2.23606797749979"
      ]
     },
     "execution_count": 23,
     "metadata": {},
     "output_type": "execute_result"
    }
   ],
   "source": [
    "a, b = 1, 2\n",
    "import math\n",
    "math.sin(a) # returns the sine of 'a' in radians\n",
    "# Out: 0.8414709848078965\n",
    "math.cosh(b) # returns the inverse hyperbolic cosine of 'b' in radians\n",
    "# Out: 3.7621956910836314\n",
    "math.atan(math.pi) # returns the arc tangent of 'pi' in radians\n",
    "# Out: 1.2626272556789115\n",
    "math.hypot(a, b) # returns the Euclidean norm, same as math.sqrt(a*a + b*b)\n",
    "# Out: 2.23606797749979"
   ]
  },
  {
   "cell_type": "code",
   "execution_count": 26,
   "id": "460086db",
   "metadata": {},
   "outputs": [
    {
     "name": "stdout",
     "output_type": "stream",
     "text": [
      "180.0\n",
      "3.141592653589793\n"
     ]
    }
   ],
   "source": [
    "# convert radian <--> degrees\n",
    "print(math.degrees(math.pi))\n",
    "print(math.radians(180))"
   ]
  },
  {
   "cell_type": "markdown",
   "id": "4cfcb088",
   "metadata": {},
   "source": [
    "Inplace operations: \n",
    "+= \n",
    "-=\n",
    "*=\n",
    "/=\n",
    "//=\n",
    "%=\n",
    "**=\n",
    "&=\n",
    "^=\n",
    "..."
   ]
  },
  {
   "cell_type": "markdown",
   "id": "a93c3e56",
   "metadata": {},
   "source": [
    "Subtraction"
   ]
  },
  {
   "cell_type": "code",
   "execution_count": 27,
   "id": "4c5e3ae4",
   "metadata": {},
   "outputs": [
    {
     "data": {
      "text/plain": [
       "1"
      ]
     },
     "execution_count": 27,
     "metadata": {},
     "output_type": "execute_result"
    }
   ],
   "source": [
    "a, b = 1, 2\n",
    "# Using the \"-\" operator:\n",
    "b - a # = 1\n",
    "import operator # contains 2 argument arithmetic functions\n",
    "operator.sub(b, a) # = 1"
   ]
  },
  {
   "cell_type": "markdown",
   "id": "8a47feb2",
   "metadata": {},
   "source": [
    "Multiplication"
   ]
  },
  {
   "cell_type": "code",
   "execution_count": 30,
   "id": "48021d1f",
   "metadata": {},
   "outputs": [
    {
     "name": "stdout",
     "output_type": "stream",
     "text": [
      "ababab\n",
      "(1, 2, 1, 2, 1, 2)\n"
     ]
    }
   ],
   "source": [
    "a, b = 2, 3\n",
    "a * b # = 6\n",
    "import operator\n",
    "operator.mul(a, b) # =6\n",
    "print(3 * 'ab')\n",
    "print(3 * (1, 2))"
   ]
  },
  {
   "cell_type": "markdown",
   "id": "6b9f878d",
   "metadata": {},
   "source": [
    "Logarithms"
   ]
  },
  {
   "cell_type": "code",
   "execution_count": 31,
   "id": "cc6dba54",
   "metadata": {},
   "outputs": [
    {
     "data": {
      "text/plain": [
       "(2.9999999999999996+0j)"
      ]
     },
     "execution_count": 31,
     "metadata": {},
     "output_type": "execute_result"
    }
   ],
   "source": [
    "import math\n",
    "import cmath\n",
    "math.log(5) # = 1.6094379124341003\n",
    "# optional base argument. Default is math.e\n",
    "math.log(5, math.e) # = 1.6094379124341003\n",
    "cmath.log(5) # = (1.6094379124341003+0j)\n",
    "math.log(1000, 10) # 3.0 (always returns float)\n",
    "cmath.log(1000, 10) # (3+0j)"
   ]
  },
  {
   "cell_type": "code",
   "execution_count": 32,
   "id": "8adb3977",
   "metadata": {},
   "outputs": [
    {
     "data": {
      "text/plain": [
       "(2+0j)"
      ]
     },
     "execution_count": 32,
     "metadata": {},
     "output_type": "execute_result"
    }
   ],
   "source": [
    "# Logarithm base e - 1 (higher precision for low values)\n",
    "math.log1p(5) # = 1.791759469228055\n",
    "# Logarithm base 2\n",
    "math.log2(8) # = 3.0\n",
    "# Logarithm base 10\n",
    "math.log10(100) # = 2.0\n",
    "cmath.log10(100) # = (2+0j)"
   ]
  },
  {
   "cell_type": "markdown",
   "id": "6ab1d4b6",
   "metadata": {},
   "source": [
    "Modulus"
   ]
  },
  {
   "cell_type": "code",
   "execution_count": 33,
   "id": "e426c739",
   "metadata": {},
   "outputs": [
    {
     "name": "stdout",
     "output_type": "stream",
     "text": [
      "3\n"
     ]
    }
   ],
   "source": [
    "print(3 % 4)"
   ]
  },
  {
   "cell_type": "code",
   "execution_count": 34,
   "id": "020e1a00",
   "metadata": {},
   "outputs": [
    {
     "data": {
      "text/plain": [
       "3"
      ]
     },
     "execution_count": 34,
     "metadata": {},
     "output_type": "execute_result"
    }
   ],
   "source": [
    "import operator\n",
    "operator.mod(3 , 4)"
   ]
  },
  {
   "cell_type": "code",
   "execution_count": 35,
   "id": "618913f7",
   "metadata": {},
   "outputs": [
    {
     "data": {
      "text/plain": [
       "-2"
      ]
     },
     "execution_count": 35,
     "metadata": {},
     "output_type": "execute_result"
    }
   ],
   "source": [
    "-9 % 7 # 5\n",
    "9 % -7 # -5\n",
    "-9 % -7 # -2"
   ]
  },
  {
   "cell_type": "code",
   "execution_count": 37,
   "id": "35cd6173",
   "metadata": {},
   "outputs": [
    {
     "name": "stdout",
     "output_type": "stream",
     "text": [
      "2 1\n"
     ]
    }
   ],
   "source": [
    "quotient, remainder = divmod(9, 4)\n",
    "# quotient = 2, remainder = 1 as 4 * 2 + 1 == 9\n",
    "print(quotient, remainder)"
   ]
  }
 ],
 "metadata": {
  "kernelspec": {
   "display_name": "Python 3",
   "language": "python",
   "name": "python3"
  },
  "language_info": {
   "codemirror_mode": {
    "name": "ipython",
    "version": 3
   },
   "file_extension": ".py",
   "mimetype": "text/x-python",
   "name": "python",
   "nbconvert_exporter": "python",
   "pygments_lexer": "ipython3",
   "version": "3.8.8"
  }
 },
 "nbformat": 4,
 "nbformat_minor": 5
}
