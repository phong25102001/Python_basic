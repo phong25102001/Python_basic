{
 "cells": [
  {
   "cell_type": "markdown",
   "id": "4c4f73b6",
   "metadata": {},
   "source": [
    "NOT"
   ]
  },
  {
   "cell_type": "code",
   "execution_count": 2,
   "id": "cc699b04",
   "metadata": {},
   "outputs": [
    {
     "name": "stdout",
     "output_type": "stream",
     "text": [
      "-1\n",
      "-2\n",
      "-3\n"
     ]
    }
   ],
   "source": [
    "print(~0) # ~0b0000 0000 = 0b1111 1111 = -1\n",
    "print(~1)\n",
    "print(~2)"
   ]
  },
  {
   "cell_type": "markdown",
   "id": "cf8bc26a",
   "metadata": {},
   "source": [
    "XOR"
   ]
  },
  {
   "cell_type": "code",
   "execution_count": 4,
   "id": "368c8955",
   "metadata": {},
   "outputs": [
    {
     "name": "stdout",
     "output_type": "stream",
     "text": [
      "34\n"
     ]
    }
   ],
   "source": [
    "# 0 ^ 0 = 0\n",
    "# 0 ^ 1 = 1\n",
    "# 1 ^ 0 = 1\n",
    "# 1 ^ 1 = 0\n",
    "# 60 = 0b111100 \n",
    "# 30 = 0b011110\n",
    "print(60 ^ 30)\n",
    "# Out: 34\n",
    "# 34 = 0b100010"
   ]
  },
  {
   "cell_type": "markdown",
   "id": "94a95f9f",
   "metadata": {},
   "source": [
    "AND"
   ]
  },
  {
   "cell_type": "code",
   "execution_count": 6,
   "id": "71ad0559",
   "metadata": {},
   "outputs": [
    {
     "name": "stdout",
     "output_type": "stream",
     "text": [
      "28\n"
     ]
    },
    {
     "data": {
      "text/plain": [
       "'0b11100'"
      ]
     },
     "execution_count": 6,
     "metadata": {},
     "output_type": "execute_result"
    }
   ],
   "source": [
    "# 60 = 0b111100\n",
    "# 30 = 0b011110\n",
    "print(60 & 30)\n",
    "bin(60 & 30)"
   ]
  },
  {
   "cell_type": "markdown",
   "id": "90e35379",
   "metadata": {},
   "source": [
    "LEFT SHIFT"
   ]
  },
  {
   "cell_type": "code",
   "execution_count": 7,
   "id": "3f1ba631",
   "metadata": {},
   "outputs": [
    {
     "name": "stdout",
     "output_type": "stream",
     "text": [
      "8\n"
     ]
    },
    {
     "data": {
      "text/plain": [
       "'0b1000'"
      ]
     },
     "execution_count": 7,
     "metadata": {},
     "output_type": "execute_result"
    }
   ],
   "source": [
    "print(2 << 2)\n",
    "bin(2 << 2)"
   ]
  },
  {
   "cell_type": "code",
   "execution_count": 9,
   "id": "e1da7e70",
   "metadata": {},
   "outputs": [
    {
     "name": "stdout",
     "output_type": "stream",
     "text": [
      "48\n",
      "48\n"
     ]
    }
   ],
   "source": [
    "print(3<<4)\n",
    "print(3*(2**4))"
   ]
  },
  {
   "cell_type": "markdown",
   "id": "13725099",
   "metadata": {},
   "source": [
    "RIGHT SHIFT"
   ]
  },
  {
   "cell_type": "code",
   "execution_count": 10,
   "id": "94649093",
   "metadata": {},
   "outputs": [
    {
     "name": "stdout",
     "output_type": "stream",
     "text": [
      "2\n"
     ]
    },
    {
     "data": {
      "text/plain": [
       "'0b10'"
      ]
     },
     "execution_count": 10,
     "metadata": {},
     "output_type": "execute_result"
    }
   ],
   "source": [
    "print(8 >> 2)\n",
    "bin(8 >> 2)"
   ]
  },
  {
   "cell_type": "code",
   "execution_count": 12,
   "id": "5ccc835f",
   "metadata": {},
   "outputs": [
    {
     "name": "stdout",
     "output_type": "stream",
     "text": [
      "3\n",
      "3\n"
     ]
    }
   ],
   "source": [
    "print(15 >> 2)\n",
    "print(15//(2**2))"
   ]
  },
  {
   "cell_type": "markdown",
   "id": "24f139c4",
   "metadata": {},
   "source": [
    "Inplace Operations:\n",
    "&= and \n",
    "|= or \n",
    "<<= left shift\n",
    ">>= right shift\n",
    "^= xor"
   ]
  }
 ],
 "metadata": {
  "kernelspec": {
   "display_name": "Python 3",
   "language": "python",
   "name": "python3"
  },
  "language_info": {
   "codemirror_mode": {
    "name": "ipython",
    "version": 3
   },
   "file_extension": ".py",
   "mimetype": "text/x-python",
   "name": "python",
   "nbconvert_exporter": "python",
   "pygments_lexer": "ipython3",
   "version": "3.8.8"
  }
 },
 "nbformat": 4,
 "nbformat_minor": 5
}
