{
 "cells": [
  {
   "cell_type": "markdown",
   "id": "13039d8e",
   "metadata": {},
   "source": [
    "PEMDAS rule:\n",
    "Parentheses, Exponents, Multiplication and Division,\n",
    "Addition and Subtraction"
   ]
  },
  {
   "cell_type": "code",
   "execution_count": 2,
   "id": "d56569ec",
   "metadata": {},
   "outputs": [
    {
     "name": "stdout",
     "output_type": "stream",
     "text": [
      "256\n",
      "486\n",
      "4.142857142857142\n"
     ]
    }
   ],
   "source": [
    "a, b, c, d = 2, 3, 5, 7\n",
    "print(a**(b + c))\n",
    "print(a*b**c) # a*(b**c)\n",
    "print(a+b*c/d)"
   ]
  },
  {
   "cell_type": "code",
   "execution_count": 5,
   "id": "7f8511ff",
   "metadata": {},
   "outputs": [
    {
     "name": "stdout",
     "output_type": "stream",
     "text": [
      "200.0\n",
      "300.0\n",
      "1e+200\n",
      "inf\n"
     ]
    }
   ],
   "source": [
    "# order:\n",
    "print(300/300*200)\n",
    "print(300*200/200)\n",
    "print(1e300/1e300*1e200)\n",
    "print(1e300*1e200/1e300) # wrong "
   ]
  },
  {
   "cell_type": "code",
   "execution_count": null,
   "id": "c01a6150",
   "metadata": {},
   "outputs": [],
   "source": []
  }
 ],
 "metadata": {
  "kernelspec": {
   "display_name": "Python 3",
   "language": "python",
   "name": "python3"
  },
  "language_info": {
   "codemirror_mode": {
    "name": "ipython",
    "version": 3
   },
   "file_extension": ".py",
   "mimetype": "text/x-python",
   "name": "python",
   "nbconvert_exporter": "python",
   "pygments_lexer": "ipython3",
   "version": "3.8.8"
  }
 },
 "nbformat": 4,
 "nbformat_minor": 5
}
