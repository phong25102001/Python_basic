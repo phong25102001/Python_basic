{
 "cells": [
  {
   "cell_type": "markdown",
   "id": "f2b9b3ea",
   "metadata": {},
   "source": [
    "Set Math:"
   ]
  },
  {
   "cell_type": "code",
   "execution_count": 16,
   "id": "78c95d17",
   "metadata": {},
   "outputs": [
    {
     "name": "stdout",
     "output_type": "stream",
     "text": [
      "True\n",
      "False\n",
      "True\n",
      "False\n"
     ]
    }
   ],
   "source": [
    "# set and set:\n",
    "# Intersection\n",
    "{1, 2, 3, 4, 5}.intersection({3, 4, 5, 6})\n",
    "{1, 2, 3, 4, 5} & {3, 4, 5, 6}\n",
    "# Union\n",
    "{1, 2, 3, 4, 5}.union({3, 4, 5, 6})\n",
    "{1, 2, 3, 4, 5} | {3, 4, 5, 6} \n",
    "# Difference\n",
    "{1, 2, 3, 4}.difference({2, 3, 5}) \n",
    "{1, 2, 3, 4} - {2, 3, 5} \n",
    "# Symmetric difference with (xor)\n",
    "{1, 2, 3, 4}.symmetric_difference({2, 3, 5}) \n",
    "{1, 2, 3, 4} ^ {2, 3, 5}\n",
    "# Superset check\n",
    "{1, 2}.issuperset({1, 2, 3}) \n",
    "{1, 2} >= {1, 2, 3} \n",
    "# Subset check\n",
    "{1, 2}.issubset({1, 2, 3}) \n",
    "{1, 2} <= {1, 2, 3} \n",
    "\n",
    "# Disjoint check\n",
    "# Sets are disjoint if \n",
    "# no element in set1 is also in set2 and vice versa.\n",
    "print({1, 2}.isdisjoint({3, 4})) \n",
    "print({1, 2}.isdisjoint({1, 4}))\n",
    "\n",
    "print(len({1, 2} & {3, 4}) == 0) # equivalent check, but less efficient\n",
    "print({1, 2} & {1, 4} == set()) # equivalent check, but less^2 efficient\n"
   ]
  },
  {
   "cell_type": "code",
   "execution_count": 3,
   "id": "b7b0bf43",
   "metadata": {},
   "outputs": [],
   "source": [
    "# single elements and set:\n",
    "# Existence check\n",
    "2 in {1,2,3} # True\n",
    "4 in {1,2,3} # False\n",
    "4 not in {1,2,3} # True\n",
    "# Add and Remove\n",
    "s = {1,2,3}\n",
    "s.add(4) # s == {1,2,3,4}\n",
    "s.discard(3) # s == {1,2,4}\n",
    "s.discard(5) # s == {1,2,4}\n",
    "s.remove(2) # s == {1,4}\n",
    "# s.remove(2) # KeyError!"
   ]
  },
  {
   "cell_type": "markdown",
   "id": "cf3ae729",
   "metadata": {},
   "source": [
    "Set operations return new sets, but have the corresponding in-place versions:\n",
    "method          in-place operation     in-place method\n",
    "union                 s |= t               update\n",
    "intersection          s &= t           intersection_update\n",
    "difference            s -= t            difference_update"
   ]
  },
  {
   "cell_type": "code",
   "execution_count": 6,
   "id": "e854c42b",
   "metadata": {},
   "outputs": [
    {
     "data": {
      "text/plain": [
       "{1, 2}"
      ]
     },
     "execution_count": 6,
     "metadata": {},
     "output_type": "execute_result"
    }
   ],
   "source": [
    "# example:\n",
    "s = {1, 2, 3}\n",
    "s.intersection_update({1, 2})\n",
    "s"
   ]
  },
  {
   "cell_type": "markdown",
   "id": "316c2c18",
   "metadata": {},
   "source": [
    "element of a list"
   ]
  },
  {
   "cell_type": "code",
   "execution_count": 8,
   "id": "6dd1a6b1",
   "metadata": {},
   "outputs": [
    {
     "name": "stdout",
     "output_type": "stream",
     "text": [
      "[\"McDonald's\", 'Burger King', \"McDonald's\", 'Chicken Chicken']\n",
      "['Chicken Chicken', 'Burger King', \"McDonald's\"]\n"
     ]
    }
   ],
   "source": [
    "# get the unique elements of a list: \n",
    "restaurants = [\"McDonald's\", \"Burger King\", \"McDonald's\", \"Chicken Chicken\"]\n",
    "print(restaurants)\n",
    "print(list(set(restaurants))) # a to z order"
   ]
  },
  {
   "cell_type": "markdown",
   "id": "eae7da00",
   "metadata": {},
   "source": [
    "Set of Set"
   ]
  },
  {
   "cell_type": "code",
   "execution_count": 9,
   "id": "57f61ed1",
   "metadata": {},
   "outputs": [
    {
     "ename": "TypeError",
     "evalue": "unhashable type: 'set'",
     "output_type": "error",
     "traceback": [
      "\u001b[1;31m---------------------------------------------------------------------------\u001b[0m",
      "\u001b[1;31mTypeError\u001b[0m                                 Traceback (most recent call last)",
      "\u001b[1;32m<ipython-input-9-df2b34eed153>\u001b[0m in \u001b[0;36m<module>\u001b[1;34m\u001b[0m\n\u001b[1;32m----> 1\u001b[1;33m \u001b[1;33m{\u001b[0m\u001b[1;33m{\u001b[0m\u001b[1;36m1\u001b[0m\u001b[1;33m,\u001b[0m \u001b[1;36m2\u001b[0m\u001b[1;33m}\u001b[0m\u001b[1;33m,\u001b[0m \u001b[1;33m{\u001b[0m\u001b[1;36m3\u001b[0m\u001b[1;33m,\u001b[0m \u001b[1;36m4\u001b[0m\u001b[1;33m}\u001b[0m\u001b[1;33m}\u001b[0m \u001b[1;31m# error: unhashable\u001b[0m\u001b[1;33m\u001b[0m\u001b[1;33m\u001b[0m\u001b[0m\n\u001b[0m",
      "\u001b[1;31mTypeError\u001b[0m: unhashable type: 'set'"
     ]
    }
   ],
   "source": [
    "{{1, 2}, {3, 4}} # error: unhashable"
   ]
  },
  {
   "cell_type": "code",
   "execution_count": 11,
   "id": "6522b7d8",
   "metadata": {},
   "outputs": [
    {
     "data": {
      "text/plain": [
       "{frozenset({3, 4}), frozenset({1, 2})}"
      ]
     },
     "execution_count": 11,
     "metadata": {},
     "output_type": "execute_result"
    }
   ],
   "source": [
    "{frozenset({1, 2}), frozenset({3, 4})} # allow"
   ]
  },
  {
   "cell_type": "markdown",
   "id": "705f8049",
   "metadata": {},
   "source": [
    "Counter:"
   ]
  },
  {
   "cell_type": "code",
   "execution_count": 18,
   "id": "27dc419c",
   "metadata": {},
   "outputs": [],
   "source": [
    "setA = {'a','b','b','c'}\n",
    "setA # miss number of b\n",
    "listA = ['a', 'b', 'b', 'c'] # full b but we don't care order"
   ]
  },
  {
   "cell_type": "code",
   "execution_count": 25,
   "id": "f6b2e16b",
   "metadata": {},
   "outputs": [
    {
     "name": "stdout",
     "output_type": "stream",
     "text": [
      "Counter({'b': 2, 'a': 1, 'c': 1})\n",
      "{'a': 1, 'b': 2, 'c': 1}\n"
     ]
    }
   ],
   "source": [
    "from collections import Counter\n",
    "counterA = Counter(['a', 'b', 'b', 'c'])\n",
    "dictA = dict(counterA)\n",
    "print(counterA, dictA, sep = '\\n')"
   ]
  },
  {
   "cell_type": "code",
   "execution_count": 28,
   "id": "76d16730",
   "metadata": {},
   "outputs": [
    {
     "name": "stdout",
     "output_type": "stream",
     "text": [
      "248\n",
      "232\n"
     ]
    }
   ],
   "source": [
    "import sys\n",
    "print(sys.getsizeof(counterA),\n",
    "      sys.getsizeof(dictA),\n",
    "      sep = '\\n')"
   ]
  },
  {
   "cell_type": "code",
   "execution_count": null,
   "id": "723e2f5e",
   "metadata": {},
   "outputs": [],
   "source": []
  }
 ],
 "metadata": {
  "kernelspec": {
   "display_name": "Python 3",
   "language": "python",
   "name": "python3"
  },
  "language_info": {
   "codemirror_mode": {
    "name": "ipython",
    "version": 3
   },
   "file_extension": ".py",
   "mimetype": "text/x-python",
   "name": "python",
   "nbconvert_exporter": "python",
   "pygments_lexer": "ipython3",
   "version": "3.8.8"
  }
 },
 "nbformat": 4,
 "nbformat_minor": 5
}
