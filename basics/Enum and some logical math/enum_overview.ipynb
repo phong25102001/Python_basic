{
 "cells": [
  {
   "cell_type": "markdown",
   "id": "d7856468",
   "metadata": {},
   "source": [
    "https://docs.python.org/3.8/library/enum.html"
   ]
  },
  {
   "cell_type": "code",
   "execution_count": 6,
   "id": "387b5991",
   "metadata": {},
   "outputs": [],
   "source": [
    "from enum import Enum"
   ]
  },
  {
   "cell_type": "code",
   "execution_count": 11,
   "id": "9a5c972a",
   "metadata": {},
   "outputs": [],
   "source": [
    "class Color(Enum): # use class syntax to creat an enum (like struct in C++)\n",
    "    red = 1\n",
    "    green = 2 \n",
    "    blue = 3"
   ]
  },
  {
   "cell_type": "code",
   "execution_count": 9,
   "id": "5b04f6f0",
   "metadata": {},
   "outputs": [
    {
     "name": "stdout",
     "output_type": "stream",
     "text": [
      "Color.red\n",
      "Color.red\n",
      "Color.red\n"
     ]
    }
   ],
   "source": [
    "print(Color.red)\n",
    "print(Color(1))\n",
    "print(Color['red'])"
   ]
  },
  {
   "cell_type": "code",
   "execution_count": 12,
   "id": "6b7ece29",
   "metadata": {},
   "outputs": [
    {
     "data": {
      "text/plain": [
       "[<Color.red: 1>, <Color.green: 2>, <Color.blue: 3>]"
      ]
     },
     "execution_count": 12,
     "metadata": {},
     "output_type": "execute_result"
    }
   ],
   "source": [
    "# iteration:\n",
    "[c for c in Color]"
   ]
  },
  {
   "cell_type": "code",
   "execution_count": null,
   "id": "162a5bab",
   "metadata": {},
   "outputs": [],
   "source": []
  }
 ],
 "metadata": {
  "kernelspec": {
   "display_name": "Python 3",
   "language": "python",
   "name": "python3"
  },
  "language_info": {
   "codemirror_mode": {
    "name": "ipython",
    "version": 3
   },
   "file_extension": ".py",
   "mimetype": "text/x-python",
   "name": "python",
   "nbconvert_exporter": "python",
   "pygments_lexer": "ipython3",
   "version": "3.8.8"
  }
 },
 "nbformat": 4,
 "nbformat_minor": 5
}
