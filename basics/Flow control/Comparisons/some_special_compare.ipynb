{
 "cells": [
  {
   "cell_type": "code",
   "execution_count": 4,
   "id": "1558f314",
   "metadata": {},
   "outputs": [
    {
     "name": "stdout",
     "output_type": "stream",
     "text": [
      "True\n",
      "False\n",
      "True\n"
     ]
    }
   ],
   "source": [
    "# chain comparisons:\n",
    "print(1 < 2 < 3) # similar to (1>2) and (2>3)\n",
    "print(1 < 2 > 3) # similar to 1 < 2 and 2 > 3\n",
    "print(1 < 3 > 2) # similar to 1 < 3 and 3 > 2"
   ]
  },
  {
   "cell_type": "code",
   "execution_count": 5,
   "id": "81527f9d",
   "metadata": {},
   "outputs": [
    {
     "name": "stdout",
     "output_type": "stream",
     "text": [
      "True\n",
      "False\n",
      "True\n",
      "True\n",
      "True\n",
      "False\n"
     ]
    }
   ],
   "source": [
    "# is and ==\n",
    "# is: identities\n",
    "# ==: value\n",
    "\n",
    "a = 'Python is fun!'\n",
    "b = 'Python is fun!'\n",
    "print(a == b) # returns True\n",
    "print(a is b) # returns False because id(a) != id(b)\n",
    "\n",
    "a = [1, 2, 3, 4, 5]\n",
    "b = a # b references a\n",
    "print(a == b) # True\n",
    "print(a is b) # True\n",
    "b = a[:] # b now references a copy of a\n",
    "print(a == b) # True\n",
    "print(a is b) # False [!!]"
   ]
  },
  {
   "cell_type": "code",
   "execution_count": 6,
   "id": "0b2c0d69",
   "metadata": {},
   "outputs": [
    {
     "name": "stdout",
     "output_type": "stream",
     "text": [
      "True\n",
      "True\n"
     ]
    }
   ],
   "source": [
    "# short string and small integer:\n",
    "a = 'short'\n",
    "b = 'short'\n",
    "c = 5\n",
    "d = 5\n",
    "print(a is b) # True\n",
    "print(c is d) # True"
   ]
  },
  {
   "cell_type": "code",
   "execution_count": 7,
   "id": "645fa6d3",
   "metadata": {},
   "outputs": [
    {
     "name": "stdout",
     "output_type": "stream",
     "text": [
      "False\n",
      "False\n"
     ]
    }
   ],
   "source": [
    "a = 'not so short'\n",
    "b = 'not so short'\n",
    "c = 1000\n",
    "d = 1000\n",
    "print(a is b) # False\n",
    "print(c is d) # False"
   ]
  },
  {
   "cell_type": "code",
   "execution_count": 16,
   "id": "5e7f82d9",
   "metadata": {},
   "outputs": [
    {
     "name": "stdout",
     "output_type": "stream",
     "text": [
      "1\n"
     ]
    }
   ],
   "source": [
    "# A use of is is to test for a “sentinel” (i.e. a unique objecprint(1)\n",
    "sentinel = object()\n",
    "\n",
    "def myfunc(var=sentinel):\n",
    "    if var is sentinel:\n",
    "        # value wasn’t provided\n",
    "        print(1)\n",
    "    else:\n",
    "        # value was provided\n",
    "        print(2)\n",
    "        \n",
    "myfunc()"
   ]
  },
  {
   "cell_type": "code",
   "execution_count": null,
   "id": "4b0ed594",
   "metadata": {},
   "outputs": [],
   "source": []
  }
 ],
 "metadata": {
  "kernelspec": {
   "display_name": "Python 3",
   "language": "python",
   "name": "python3"
  },
  "language_info": {
   "codemirror_mode": {
    "name": "ipython",
    "version": 3
   },
   "file_extension": ".py",
   "mimetype": "text/x-python",
   "name": "python",
   "nbconvert_exporter": "python",
   "pygments_lexer": "ipython3",
   "version": "3.8.8"
  }
 },
 "nbformat": 4,
 "nbformat_minor": 5
}
