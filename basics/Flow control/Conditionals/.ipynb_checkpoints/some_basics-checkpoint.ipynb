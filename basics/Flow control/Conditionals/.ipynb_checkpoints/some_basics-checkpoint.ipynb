{
 "cells": [
  {
   "cell_type": "markdown",
   "id": "e3c69b18",
   "metadata": {},
   "source": [
    "Truth Value:\n",
    "    False if: \n",
    "        None\n",
    "        False\n",
    "        0, or any numerical value equivalent to zero, for example 0L, 0.0, 0j\n",
    "        Empty sequences: '', \"\", (), []\n",
    "        Empty mappings: {}\n",
    "        User-defined types where the __bool__ or __len__ methods return 0 or False\n",
    "    True if: other values"
   ]
  },
  {
   "cell_type": "code",
   "execution_count": 5,
   "id": "d34ac9cc",
   "metadata": {},
   "outputs": [
    {
     "name": "stdout",
     "output_type": "stream",
     "text": [
      ">2\n",
      "Good day\n"
     ]
    }
   ],
   "source": [
    "# Ternary Operator\n",
    "# in C x?y:z\n",
    "# => python: y if x else z\n",
    "n = 5\n",
    "print(\">2\" if n > 2 else \"<=2\")\n",
    "print(\"Hello\" if n > 10 else \"Goodbye\" if n > 5 else \"Good day\")\n",
    "# n>10 False => Goodbye if n>5 else Good day (n>5 False) => Good day "
   ]
  },
  {
   "cell_type": "code",
   "execution_count": 4,
   "id": "058fe48e",
   "metadata": {},
   "outputs": [
    {
     "name": "stdout",
     "output_type": "stream",
     "text": [
      "Number is bigger than 2.\n"
     ]
    }
   ],
   "source": [
    "# if, elif, else\n",
    "number = 5\n",
    "\n",
    "if number > 2:\n",
    "    print(\"Number is bigger than 2.\")\n",
    "elif number < 2: # Optional clause (you can have multiple elifs)\n",
    "    print(\"Number is smaller than 2.\")\n",
    "else: # Optional clause (you can only have one else)\n",
    "    print(\"Number is 2.\")"
   ]
  },
  {
   "cell_type": "code",
   "execution_count": null,
   "id": "0f3f56c1",
   "metadata": {},
   "outputs": [],
   "source": []
  }
 ],
 "metadata": {
  "kernelspec": {
   "display_name": "Python 3",
   "language": "python",
   "name": "python3"
  },
  "language_info": {
   "codemirror_mode": {
    "name": "ipython",
    "version": 3
   },
   "file_extension": ".py",
   "mimetype": "text/x-python",
   "name": "python",
   "nbconvert_exporter": "python",
   "pygments_lexer": "ipython3",
   "version": "3.8.8"
  }
 },
 "nbformat": 4,
 "nbformat_minor": 5
}
