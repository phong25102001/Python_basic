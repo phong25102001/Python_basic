{
 "cells": [
  {
   "cell_type": "code",
   "execution_count": 3,
   "id": "243443ca",
   "metadata": {},
   "outputs": [
    {
     "name": "stdout",
     "output_type": "stream",
     "text": [
      "1\n",
      "2\n"
     ]
    }
   ],
   "source": [
    "foo = 1 # global\n",
    "def func():\n",
    "    bar = 2 # local\n",
    "    print(foo) # prints variable foo from global scope\n",
    "    print(bar) # prints variable bar from local scope\n",
    "    \n",
    "func()"
   ]
  },
  {
   "cell_type": "code",
   "execution_count": 11,
   "id": "45828f5a",
   "metadata": {},
   "outputs": [
    {
     "name": "stdout",
     "output_type": "stream",
     "text": [
      "dict_keys(['__name__', '__doc__', '__package__', '__loader__', '__spec__', '__builtin__', '__builtins__', '_ih', '_oh', '_dh', 'In', 'Out', 'get_ipython', 'exit', 'quit', '_', '__', '___', '_i', '_ii', '_iii', '_i1', '_i2', 'foo', 'func', '_i3', '_i4', '_i5', '_i6', '_i7', '_i8', '_i9', '_i10', '_i11'])\n",
      "{'bar': 2}\n"
     ]
    }
   ],
   "source": [
    "foo = 1\n",
    "def func():\n",
    "    bar = 2\n",
    "    print(globals().keys()) # prints all variable names in global scope\n",
    "    print(locals()) # prints all variable names in local scope and level scope\n",
    "\n",
    "func()"
   ]
  },
  {
   "cell_type": "code",
   "execution_count": 13,
   "id": "cbfe033e",
   "metadata": {},
   "outputs": [
    {
     "name": "stdout",
     "output_type": "stream",
     "text": [
      "2\n",
      "1\n",
      "2\n"
     ]
    }
   ],
   "source": [
    "# clash name:\n",
    "foo = 1\n",
    "def func():\n",
    "    foo = 2 # creates a new variable foo in local scope, global foo is not affected\n",
    "    print(foo) # prints 2\n",
    "    # global variable foo still exists, unchanged:\n",
    "    print(globals()['foo']) # prints 1\n",
    "    print(locals()['foo']) # prints 2\n",
    "    \n",
    "func()"
   ]
  },
  {
   "cell_type": "code",
   "execution_count": 15,
   "id": "10857c26",
   "metadata": {},
   "outputs": [
    {
     "name": "stdout",
     "output_type": "stream",
     "text": [
      "2\n"
     ]
    }
   ],
   "source": [
    "# modify a global variable\n",
    "foo = 1\n",
    "def func():\n",
    "    global foo\n",
    "    foo = 2 # this modifies the global foo, rather than creating a local variable\n",
    "\n",
    "func()\n",
    "print(foo)"
   ]
  },
  {
   "cell_type": "code",
   "execution_count": 22,
   "id": "694aa841",
   "metadata": {},
   "outputs": [
    {
     "name": "stdout",
     "output_type": "stream",
     "text": [
      "7\n",
      "7\n",
      "7\n"
     ]
    }
   ],
   "source": [
    "foo = 1\n",
    "def func():\n",
    "    # In this function, foo is a global variable from the beginning\n",
    "    global foo\n",
    "    foo = 7 # global foo is modified\n",
    "    print(foo) # 7\n",
    "    print(globals()['foo']) # 7\n",
    "#     global foo # global must be in above of all\n",
    "    print(foo) # 7\n",
    "    \n",
    "func()"
   ]
  },
  {
   "cell_type": "code",
   "execution_count": 30,
   "id": "748de28f",
   "metadata": {},
   "outputs": [
    {
     "name": "stdout",
     "output_type": "stream",
     "text": [
      "dict_keys(['baz'])\n",
      "False\n",
      "False\n",
      "1\n",
      "dict_keys(['baz', 'bar'])\n",
      "True\n",
      "False\n",
      "4\n",
      "dict_keys(['bar'])\n",
      "True\n",
      "False\n"
     ]
    }
   ],
   "source": [
    "# function within functions\n",
    "foo = 1\n",
    "def f1():\n",
    "    bar = 1\n",
    "    \n",
    "    def f2():\n",
    "        baz = 2\n",
    "        # here, foo is a global variable, baz is a local variable\n",
    "        # bar is not in either scope\n",
    "        print(locals().keys()) # ['baz']\n",
    "        print('bar' in locals()) # False\n",
    "        print('bar' in globals()) # False\n",
    "    \n",
    "    def f3():\n",
    "        baz = 3\n",
    "        print(bar) # bar from f1 is referenced so it enters local scope of f3 (closure)\n",
    "        print(locals().keys()) # ['bar', 'baz']\n",
    "        print('bar' in locals()) # True\n",
    "        print('bar' in globals()) # False\n",
    "        \n",
    "    def f4():\n",
    "        bar = 4 # a new local bar which hides bar from local scope of f1\n",
    "        print(bar)\n",
    "        print(locals().keys()) # ['bar', 'baz']\n",
    "        print('bar' in locals()) # True\n",
    "        print('bar' in globals()) # False\n",
    "    \n",
    "    f2()\n",
    "    f3()\n",
    "    f4()\n",
    "\n",
    "f1()\n"
   ]
  },
  {
   "cell_type": "code",
   "execution_count": 31,
   "id": "497f8587",
   "metadata": {},
   "outputs": [
    {
     "name": "stdout",
     "output_type": "stream",
     "text": [
      "0\n",
      "100\n"
     ]
    }
   ],
   "source": [
    "# global\n",
    "foo = 0 # global foo\n",
    "\n",
    "def f1():\n",
    "    foo = 1 # a new foo local in f1\n",
    "\n",
    "def f2():\n",
    "    foo = 2 # a new foo local in f2\n",
    "\n",
    "def f3():\n",
    "    foo = 3 # a new foo local in f3\n",
    "    print(foo) # 3\n",
    "    foo = 30 # modifies local foo in f3 only\n",
    "\n",
    "def f4():\n",
    "    global foo\n",
    "    print(foo) # 0\n",
    "    foo = 100 # modifies global foo\n",
    "    \n",
    "f4()\n",
    "print(foo)\n",
    "# if replace global to nonlocal in f4 ..."
   ]
  },
  {
   "cell_type": "code",
   "execution_count": 32,
   "id": "d38fa01a",
   "metadata": {},
   "outputs": [],
   "source": [
    "# nonlocal\n",
    "def f1():\n",
    "    def f2():\n",
    "        foo = 2 # a new foo local in f2\n",
    "        def f3():\n",
    "            nonlocal foo # foo from f2, which is the nearest enclosing scope\n",
    "            print(foo) # 2\n",
    "            foo = 20 # modifies foo from f2!"
   ]
  },
  {
   "cell_type": "code",
   "execution_count": null,
   "id": "7b0ef368",
   "metadata": {},
   "outputs": [],
   "source": []
  }
 ],
 "metadata": {
  "kernelspec": {
   "display_name": "Python 3",
   "language": "python",
   "name": "python3"
  },
  "language_info": {
   "codemirror_mode": {
    "name": "ipython",
    "version": 3
   },
   "file_extension": ".py",
   "mimetype": "text/x-python",
   "name": "python",
   "nbconvert_exporter": "python",
   "pygments_lexer": "ipython3",
   "version": "3.8.8"
  }
 },
 "nbformat": 4,
 "nbformat_minor": 5
}
