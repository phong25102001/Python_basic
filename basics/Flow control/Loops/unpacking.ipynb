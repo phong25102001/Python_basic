{
 "cells": [
  {
   "cell_type": "code",
   "execution_count": 1,
   "id": "2bd3c3ae",
   "metadata": {},
   "outputs": [],
   "source": [
    "collection = [('a', 'b', 'c'), ('x', 'y', 'z'), ('1', '2', '3')]"
   ]
  },
  {
   "cell_type": "code",
   "execution_count": 8,
   "id": "b6937603",
   "metadata": {},
   "outputs": [
    {
     "name": "stdout",
     "output_type": "stream",
     "text": [
      "a b c\n",
      "x y z\n",
      "1 2 3\n"
     ]
    }
   ],
   "source": [
    "for item in collection:\n",
    "    i1 = item[0] # = a,x,1\n",
    "    i2 = item[1] # = b,y,2\n",
    "    i3 = item[2] # = c,z,3\n",
    "    print(i1, i2, i3)"
   ]
  },
  {
   "cell_type": "code",
   "execution_count": 9,
   "id": "23668f9f",
   "metadata": {},
   "outputs": [
    {
     "name": "stdout",
     "output_type": "stream",
     "text": [
      "a b c\n",
      "x y z\n",
      "1 2 3\n"
     ]
    }
   ],
   "source": [
    "for item in collection:\n",
    "    i1, i2, i3 = item\n",
    "    print(i1, i2, i3)"
   ]
  },
  {
   "cell_type": "code",
   "execution_count": 6,
   "id": "a7776f13",
   "metadata": {},
   "outputs": [
    {
     "name": "stdout",
     "output_type": "stream",
     "text": [
      "a b c\n",
      "x y z\n",
      "1 2 3\n"
     ]
    }
   ],
   "source": [
    "for i1, i2, i3 in collection:\n",
    "    print(i1, i2, i3)"
   ]
  },
  {
   "cell_type": "code",
   "execution_count": null,
   "id": "18cee59e",
   "metadata": {},
   "outputs": [],
   "source": []
  }
 ],
 "metadata": {
  "kernelspec": {
   "display_name": "Python 3",
   "language": "python",
   "name": "python3"
  },
  "language_info": {
   "codemirror_mode": {
    "name": "ipython",
    "version": 3
   },
   "file_extension": ".py",
   "mimetype": "text/x-python",
   "name": "python",
   "nbconvert_exporter": "python",
   "pygments_lexer": "ipython3",
   "version": "3.8.8"
  }
 },
 "nbformat": 4,
 "nbformat_minor": 5
}
