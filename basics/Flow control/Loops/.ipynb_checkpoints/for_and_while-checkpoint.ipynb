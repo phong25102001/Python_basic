{
 "cells": [
  {
   "cell_type": "code",
   "execution_count": 3,
   "id": "508e5be5",
   "metadata": {},
   "outputs": [
    {
     "name": "stdout",
     "output_type": "stream",
     "text": [
      "0\n",
      "1\n",
      "2\n",
      "3\n",
      "4\n",
      "Breaking from loop\n",
      "0\n",
      "1\n",
      "2\n"
     ]
    }
   ],
   "source": [
    "# break \n",
    "i = 0\n",
    "while i < 7:\n",
    "    print(i)\n",
    "    if i == 4:\n",
    "        print(\"Breaking from loop\")\n",
    "        break\n",
    "    i += 1\n",
    "    \n",
    "for i in (0, 1, 2, 3, 4):\n",
    "    print(i)\n",
    "    if i == 2:\n",
    "        break"
   ]
  },
  {
   "cell_type": "code",
   "execution_count": 4,
   "id": "463f8c45",
   "metadata": {},
   "outputs": [
    {
     "name": "stdout",
     "output_type": "stream",
     "text": [
      "0\n",
      "1\n",
      "3\n",
      "5\n"
     ]
    }
   ],
   "source": [
    "# continue\n",
    "for i in (0, 1, 2, 3, 4, 5):\n",
    "    if i == 2 or i == 4:\n",
    "        continue\n",
    "    print(i)"
   ]
  },
  {
   "cell_type": "code",
   "execution_count": 1,
   "id": "a193f1ce",
   "metadata": {},
   "outputs": [
    {
     "name": "stdout",
     "output_type": "stream",
     "text": [
      "1\n"
     ]
    },
    {
     "data": {
      "text/plain": [
       "2"
      ]
     },
     "execution_count": 1,
     "metadata": {},
     "output_type": "execute_result"
    }
   ],
   "source": [
    "# return \n",
    "def break_loop():\n",
    "    for i in range(1, 5):\n",
    "        if (i == 2):\n",
    "            return(i)\n",
    "        print(i)\n",
    "    return(5)\n",
    "\n",
    "break_loop()"
   ]
  },
  {
   "cell_type": "code",
   "execution_count": 2,
   "id": "294f575a",
   "metadata": {},
   "outputs": [
    {
     "name": "stdout",
     "output_type": "stream",
     "text": [
      "1\n",
      "2\n",
      "3\n",
      "2\n",
      "4\n"
     ]
    },
    {
     "data": {
      "text/plain": [
       "3"
      ]
     },
     "execution_count": 2,
     "metadata": {},
     "output_type": "execute_result"
    }
   ],
   "source": [
    "def break_all():\n",
    "    for j in range(1, 5):\n",
    "        for i in range(1,4):\n",
    "            if i*j == 6:\n",
    "                return (i)\n",
    "            print(i*j)\n",
    "            \n",
    "break_all()"
   ]
  },
  {
   "cell_type": "code",
   "execution_count": 3,
   "id": "fbaa1bd2",
   "metadata": {},
   "outputs": [
    {
     "name": "stdout",
     "output_type": "stream",
     "text": [
      "0 :  one\n",
      "1 :  two\n",
      "2 :  three\n",
      "3 :  four\n"
     ]
    }
   ],
   "source": [
    "for index, item in enumerate(['one', 'two', 'three', 'four']):\n",
    "    print(index, ': ', item)"
   ]
  },
  {
   "cell_type": "code",
   "execution_count": 6,
   "id": "9f9c668d",
   "metadata": {},
   "outputs": [
    {
     "name": "stdout",
     "output_type": "stream",
     "text": [
      "[1, 4, 9, 16]\n"
     ]
    }
   ],
   "source": [
    "x = map(lambda i: i**2, [i for i in list(range(1,5))])\n",
    "print(list(x))"
   ]
  },
  {
   "cell_type": "code",
   "execution_count": 7,
   "id": "4c8d412c",
   "metadata": {},
   "outputs": [
    {
     "name": "stdout",
     "output_type": "stream",
     "text": [
      "0\n",
      "1\n",
      "2\n",
      "done\n"
     ]
    }
   ],
   "source": [
    "# loops with an 'else' clause no break\n",
    "for i in range(3): # similar to while\n",
    "    print(i)\n",
    "else:\n",
    "    print('done')"
   ]
  },
  {
   "cell_type": "code",
   "execution_count": 8,
   "id": "17b494b8",
   "metadata": {},
   "outputs": [
    {
     "name": "stdout",
     "output_type": "stream",
     "text": [
      "0\n",
      "1\n"
     ]
    }
   ],
   "source": [
    "# loops, else, break\n",
    "for i in range(2):\n",
    "    print(i)\n",
    "    if i == 1:\n",
    "        break\n",
    "else:\n",
    "    print('done')"
   ]
  },
  {
   "cell_type": "code",
   "execution_count": 10,
   "id": "0e7331e3",
   "metadata": {},
   "outputs": [
    {
     "name": "stdout",
     "output_type": "stream",
     "text": [
      "no exception\n"
     ]
    }
   ],
   "source": [
    "a = [1, 2, 3, 4]\n",
    "for i in a:\n",
    "    if type(i) is not int:\n",
    "        print(i)\n",
    "        break\n",
    "else:\n",
    "    print(\"no exception\")"
   ]
  },
  {
   "cell_type": "code",
   "execution_count": 2,
   "id": "289a4327",
   "metadata": {},
   "outputs": [],
   "source": [
    "# pass:\n",
    "for x in range(10):\n",
    "    pass\n",
    "\n",
    "x = 2\n",
    "while x==1:\n",
    "    pass"
   ]
  }
 ],
 "metadata": {
  "kernelspec": {
   "display_name": "Python 3",
   "language": "python",
   "name": "python3"
  },
  "language_info": {
   "codemirror_mode": {
    "name": "ipython",
    "version": 3
   },
   "file_extension": ".py",
   "mimetype": "text/x-python",
   "name": "python",
   "nbconvert_exporter": "python",
   "pygments_lexer": "ipython3",
   "version": "3.8.8"
  }
 },
 "nbformat": 4,
 "nbformat_minor": 5
}
