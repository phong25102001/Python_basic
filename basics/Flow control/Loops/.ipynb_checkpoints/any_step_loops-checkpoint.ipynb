{
 "cells": [
  {
   "cell_type": "code",
   "execution_count": 1,
   "id": "0b038653",
   "metadata": {},
   "outputs": [],
   "source": [
    "lst = ['alpha', 'bravo', 'charlie', 'delta', 'echo']"
   ]
  },
  {
   "cell_type": "code",
   "execution_count": 5,
   "id": "17cae51b",
   "metadata": {},
   "outputs": [
    {
     "name": "stdout",
     "output_type": "stream",
     "text": [
      "a\n",
      "b\n",
      "c\n",
      "d\n",
      "e\n",
      "alpha has an index of 0\n",
      "bravo has an index of 1\n",
      "charlie has an index of 2\n",
      "delta has an index of 3\n",
      "echo has an index of 4\n"
     ]
    }
   ],
   "source": [
    "# Iteration over the whole list\n",
    "for s in lst:\n",
    "    print(s[0]) # print the first letter\n",
    "    \n",
    "for idx, s in enumerate(lst):\n",
    "    print(\"%s has an index of %d\" % (s, idx))"
   ]
  },
  {
   "cell_type": "code",
   "execution_count": 6,
   "id": "19ec23a0",
   "metadata": {},
   "outputs": [
    {
     "name": "stdout",
     "output_type": "stream",
     "text": [
      "lst at 2 contains charlie\n",
      "lst at 3 contains delta\n"
     ]
    }
   ],
   "source": [
    "# Iterate over sub-lis\n",
    "for i in range(2,4):\n",
    "    print(\"lst at %d contains %s\" % (i, lst[i]))"
   ]
  },
  {
   "cell_type": "code",
   "execution_count": 8,
   "id": "bcaff8ba",
   "metadata": {},
   "outputs": [
    {
     "name": "stdout",
     "output_type": "stream",
     "text": [
      "bravo\n",
      "delta\n",
      "bravo\n",
      "delta\n"
     ]
    }
   ],
   "source": [
    "# slice loops\n",
    "for s in lst[1::2]: # lst[2] and lst[4]\n",
    "    print(s)\n",
    "\n",
    "for i in range(1, len(lst), 2):\n",
    "    print(lst[i])"
   ]
  },
  {
   "cell_type": "code",
   "execution_count": null,
   "id": "f9ff1d07",
   "metadata": {},
   "outputs": [],
   "source": []
  }
 ],
 "metadata": {
  "kernelspec": {
   "display_name": "Python 3",
   "language": "python",
   "name": "python3"
  },
  "language_info": {
   "codemirror_mode": {
    "name": "ipython",
    "version": 3
   },
   "file_extension": ".py",
   "mimetype": "text/x-python",
   "name": "python",
   "nbconvert_exporter": "python",
   "pygments_lexer": "ipython3",
   "version": "3.8.8"
  }
 },
 "nbformat": 4,
 "nbformat_minor": 5
}
