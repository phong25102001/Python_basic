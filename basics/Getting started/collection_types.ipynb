{
 "cells": [
  {
   "cell_type": "markdown",
   "id": "fe0e0fe5",
   "metadata": {},
   "source": [
    "int and str hold a single value, collection\n",
    "types hold multiple values."
   ]
  },
  {
   "cell_type": "markdown",
   "id": "daa6717a",
   "metadata": {},
   "source": [
    "collection: list"
   ]
  },
  {
   "cell_type": "code",
   "execution_count": 30,
   "id": "3b4453c5",
   "metadata": {},
   "outputs": [],
   "source": [
    "int_list = [1, 2, 3]\n",
    "string_list = ['abc', 'defghi']"
   ]
  },
  {
   "cell_type": "code",
   "execution_count": 2,
   "id": "c71e2191",
   "metadata": {},
   "outputs": [
    {
     "name": "stdout",
     "output_type": "stream",
     "text": [
      "[]\n"
     ]
    }
   ],
   "source": [
    "empty_list = []\n",
    "print(empty_list)"
   ]
  },
  {
   "cell_type": "code",
   "execution_count": 3,
   "id": "9fc828a2",
   "metadata": {},
   "outputs": [
    {
     "name": "stdout",
     "output_type": "stream",
     "text": [
      "[1, 'abc', True, 2.34, None]\n"
     ]
    }
   ],
   "source": [
    "# mix type\n",
    "mixed_list = [1, 'abc', True, 2.34, None]\n",
    "print(mixed_list)"
   ]
  },
  {
   "cell_type": "code",
   "execution_count": 5,
   "id": "b2d67c22",
   "metadata": {},
   "outputs": [
    {
     "name": "stdout",
     "output_type": "stream",
     "text": [
      "[['a', 'b', 'c'], [1, 2, 3]]\n"
     ]
    }
   ],
   "source": [
    "# list in list\n",
    "nested_list = [['a', 'b', 'c'], [1, 2, 3]]\n",
    "print(nested_list)"
   ]
  },
  {
   "cell_type": "code",
   "execution_count": 7,
   "id": "2b6266e8",
   "metadata": {},
   "outputs": [
    {
     "name": "stdout",
     "output_type": "stream",
     "text": [
      "Alice\n",
      "Craig\n",
      "Eric\n",
      "Bob\n"
     ]
    }
   ],
   "source": [
    "# access\n",
    "names = ['Alice', 'Bob', 'Craig', 'Diana', 'Eric']\n",
    "\n",
    "print(names[0]) # Alice\n",
    "print(names[2]) # Craig\n",
    "\n",
    "print(names[-1])\n",
    "print(names[-4])\n"
   ]
  },
  {
   "cell_type": "code",
   "execution_count": 8,
   "id": "ee198e63",
   "metadata": {},
   "outputs": [
    {
     "name": "stdout",
     "output_type": "stream",
     "text": [
      "['Ann', 'Bob', 'Craig', 'Diana', 'Eric']\n"
     ]
    }
   ],
   "source": [
    "# mutable\n",
    "names[0] = 'Ann'\n",
    "print(names)"
   ]
  },
  {
   "cell_type": "code",
   "execution_count": 29,
   "id": "682bbe43",
   "metadata": {},
   "outputs": [
    {
     "name": "stdout",
     "output_type": "stream",
     "text": [
      "['Alice', 'Bob', 'Craig', 'Diana', 'Eric', 'Sia'];None\n",
      "['Alice', 'Nikki', 'Bob', 'Craig', 'Diana', 'Eric', 'Sia'];None\n",
      "['Alice', 'Nikki', 'Craig', 'Diana', 'Eric', 'Sia'];None\n",
      "0\n",
      "6\n",
      "3\n",
      "None;[4, 3, 2, 1, 1, 1]\n",
      "[1, 1, 1, 2, 3, 4];[4, 3, 2, 1, 1, 1]\n",
      "Nikki;['Alice', 'Craig', 'Diana', 'Eric', 'Sia']\n"
     ]
    }
   ],
   "source": [
    "# some methods and functions\n",
    "names = ['Alice', 'Bob', 'Craig', 'Diana', 'Eric']\n",
    "test = names.append(\"Sia\") # list will be changed and return None\n",
    "print(names, test, sep = ';')\n",
    "\n",
    "test = names.insert(1, \"Nikki\")\n",
    "print(names, test, sep = ';')\n",
    "\n",
    "test = names.remove(\"Bob\")\n",
    "print(names, test, sep = ';')\n",
    "\n",
    "print(names.index('Alice')) # return index of 'Alice'\n",
    "# print(names.index('Another is not in list)) # error\n",
    "\n",
    "print(len(names))\n",
    "a = [1, 1, 1, 2, 3, 4]\n",
    "print(a.count(1))\n",
    "\n",
    "print(a.reverse(), a, sep=';') # return None, in reference to a \n",
    "print(a[::-1], a, sep=';') # return reversed a, not in reference to a \n",
    "\n",
    "print(names.pop(1), names, sep=';') # remove and return"
   ]
  },
  {
   "cell_type": "markdown",
   "id": "7e312e1c",
   "metadata": {},
   "source": [
    "collection: tuple (similar to list except that it is \n",
    "                    fixed-length and immutable)"
   ]
  },
  {
   "cell_type": "code",
   "execution_count": 32,
   "id": "5cf9c1bf",
   "metadata": {},
   "outputs": [
    {
     "name": "stdout",
     "output_type": "stream",
     "text": [
      "('10.2.30.800', 8000)\n"
     ]
    }
   ],
   "source": [
    "ip_address = ('10.2.30.800', 8000)\n",
    "print(ip_address)"
   ]
  },
  {
   "cell_type": "code",
   "execution_count": 33,
   "id": "ca0607a2",
   "metadata": {},
   "outputs": [],
   "source": [
    "# tupple with only one member: \n",
    "one_member_tuple = ('Only member',)\n",
    "# is similar to\n",
    "one_member_tuple = 'Only member',\n",
    "# or\n",
    "one_member_tuple = tuple(['Only member'])"
   ]
  },
  {
   "cell_type": "markdown",
   "id": "94889afa",
   "metadata": {},
   "source": [
    "collection: dictionaries (strongly resemble json syntax)"
   ]
  },
  {
   "cell_type": "code",
   "execution_count": 34,
   "id": "31c0a920",
   "metadata": {},
   "outputs": [
    {
     "data": {
      "text/plain": [
       "dict"
      ]
     },
     "execution_count": 34,
     "metadata": {},
     "output_type": "execute_result"
    }
   ],
   "source": [
    "# key-value paris\n",
    "state_capitals = {\n",
    "    'Arkansas': 'Little Rock',\n",
    "    'Colorado': 'Denver',\n",
    "    'California': 'Sacramento',\n",
    "    'Georgia': 'Atlanta'\n",
    "    }\n",
    "type(state_capitals)"
   ]
  },
  {
   "cell_type": "code",
   "execution_count": 35,
   "id": "cb59ddc8",
   "metadata": {},
   "outputs": [
    {
     "name": "stdout",
     "output_type": "stream",
     "text": [
      "Sacramento\n"
     ]
    }
   ],
   "source": [
    "# get value by key\n",
    "ca_capital = state_capitals['California']\n",
    "print(ca_capital)"
   ]
  },
  {
   "cell_type": "code",
   "execution_count": 37,
   "id": "6cea9787",
   "metadata": {},
   "outputs": [
    {
     "name": "stdout",
     "output_type": "stream",
     "text": [
      "Little Rock is the capital of Arkansas\n",
      "Denver is the capital of Colorado\n",
      "Sacramento is the capital of California\n",
      "Atlanta is the capital of Georgia\n"
     ]
    }
   ],
   "source": [
    "# loop over the dict\n",
    "for k in state_capitals.keys():\n",
    "    print('{} is the capital of {}'.format(state_capitals[k], k))"
   ]
  },
  {
   "cell_type": "markdown",
   "id": "bbb01ccf",
   "metadata": {},
   "source": [
    "collection: set (no repeats and without insertion order but sorted order)"
   ]
  },
  {
   "cell_type": "code",
   "execution_count": 38,
   "id": "fb223a8f",
   "metadata": {},
   "outputs": [
    {
     "data": {
      "text/plain": [
       "set"
      ]
     },
     "execution_count": 38,
     "metadata": {},
     "output_type": "execute_result"
    }
   ],
   "source": [
    "first_names = {'Adam', 'Beth', 'Charlie'}\n",
    "type(first_names)"
   ]
  },
  {
   "cell_type": "code",
   "execution_count": 39,
   "id": "ad75e65e",
   "metadata": {},
   "outputs": [
    {
     "data": {
      "text/plain": [
       "{-1, 5, 8}"
      ]
     },
     "execution_count": 39,
     "metadata": {},
     "output_type": "execute_result"
    }
   ],
   "source": [
    "# order\n",
    "my_list = [5, -1, 8]\n",
    "set(my_list)"
   ]
  },
  {
   "cell_type": "code",
   "execution_count": 40,
   "id": "dd2e19ac",
   "metadata": {},
   "outputs": [
    {
     "data": {
      "text/plain": [
       "True"
      ]
     },
     "execution_count": 40,
     "metadata": {},
     "output_type": "execute_result"
    }
   ],
   "source": [
    "# check in\n",
    "-1 in set(my_list)"
   ]
  },
  {
   "cell_type": "markdown",
   "id": "856f793e",
   "metadata": {},
   "source": [
    "collection: defaultdict (dict with defaultvalue for keys)"
   ]
  },
  {
   "cell_type": "code",
   "execution_count": 44,
   "id": "9b64a412",
   "metadata": {},
   "outputs": [
    {
     "data": {
      "text/plain": [
       "'Boston'"
      ]
     },
     "execution_count": 44,
     "metadata": {},
     "output_type": "execute_result"
    }
   ],
   "source": [
    "state_capitals = {\n",
    "    'Arkansas': 'Little Rock',\n",
    "    'Colorado': 'Denver',\n",
    "    'California': 'Sacramento',\n",
    "    'Georgia': 'Atlanta'\n",
    "    }\n",
    "\n",
    "# state_capitals['Alabama'] # error because dict have no key is Alabama\n",
    "# so we creat a default value\n",
    "from collections import defaultdict\n",
    "state_capitals = defaultdict(lambda: 'Boston') # parameter of defaultdict must be callable or None\n",
    "\n",
    "state_capitals[\"Any key\"]"
   ]
  },
  {
   "cell_type": "code",
   "execution_count": null,
   "id": "4728c1e4",
   "metadata": {},
   "outputs": [],
   "source": []
  }
 ],
 "metadata": {
  "kernelspec": {
   "display_name": "Python 3",
   "language": "python",
   "name": "python3"
  },
  "language_info": {
   "codemirror_mode": {
    "name": "ipython",
    "version": 3
   },
   "file_extension": ".py",
   "mimetype": "text/x-python",
   "name": "python",
   "nbconvert_exporter": "python",
   "pygments_lexer": "ipython3",
   "version": "3.8.8"
  }
 },
 "nbformat": 4,
 "nbformat_minor": 5
}
