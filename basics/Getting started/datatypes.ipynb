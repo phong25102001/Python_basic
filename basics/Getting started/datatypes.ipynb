{
 "cells": [
  {
   "cell_type": "markdown",
   "id": "ea0fa15a",
   "metadata": {},
   "source": [
    "Booleans:"
   ]
  },
  {
   "cell_type": "code",
   "execution_count": 6,
   "id": "63d05e68",
   "metadata": {},
   "outputs": [
    {
     "name": "stdout",
     "output_type": "stream",
     "text": [
      "True False False\n"
     ]
    }
   ],
   "source": [
    "x = True\n",
    "y = False\n",
    "print(x or y,\n",
    "      x and y,\n",
    "      not x)"
   ]
  },
  {
   "cell_type": "code",
   "execution_count": 5,
   "id": "0c0357d2",
   "metadata": {},
   "outputs": [
    {
     "name": "stdout",
     "output_type": "stream",
     "text": [
      "True True True\n"
     ]
    }
   ],
   "source": [
    "print(issubclass(bool, int),\n",
    "      isinstance(True, bool),\n",
    "      isinstance(False, int))"
   ]
  },
  {
   "cell_type": "code",
   "execution_count": 7,
   "id": "2d9f77cb",
   "metadata": {},
   "outputs": [
    {
     "name": "stdout",
     "output_type": "stream",
     "text": [
      "1 2\n"
     ]
    }
   ],
   "source": [
    "# True = 1; False = 0\n",
    "print(True + False,\n",
    "      True + True)"
   ]
  },
  {
   "cell_type": "markdown",
   "id": "8d6cba62",
   "metadata": {},
   "source": [
    "Number: "
   ]
  },
  {
   "cell_type": "code",
   "execution_count": 15,
   "id": "0dd5f404",
   "metadata": {},
   "outputs": [
    {
     "name": "stdout",
     "output_type": "stream",
     "text": [
      "(<class 'int'>, <class 'int'>, <class 'int'>, <class 'int'>)\n"
     ]
    }
   ],
   "source": [
    "# int:\n",
    "a = 2\n",
    "b = 100\n",
    "c = 123456789\n",
    "d = 6545489456148431\n",
    "print(tuple(type(i) for i in (a, b, c, d))) "
   ]
  },
  {
   "cell_type": "code",
   "execution_count": 16,
   "id": "42533d7e",
   "metadata": {},
   "outputs": [
    {
     "name": "stdout",
     "output_type": "stream",
     "text": [
      "(<class 'float'>, <class 'float'>, <class 'float'>)\n"
     ]
    }
   ],
   "source": [
    "# float:\n",
    "a = 2.0\n",
    "b = 100.e0\n",
    "c = 123456789.e1\n",
    "print(tuple(type(i) for i in (a, b, c))) "
   ]
  },
  {
   "cell_type": "code",
   "execution_count": 19,
   "id": "87099f6b",
   "metadata": {},
   "outputs": [
    {
     "name": "stdout",
     "output_type": "stream",
     "text": [
      "(<class 'complex'>, <class 'complex'>)\n"
     ]
    }
   ],
   "source": [
    "# complex: \n",
    "a = 2 + 1j\n",
    "b = 100 + 10j\n",
    "print(tuple(type(i) for i in (a, b))) \n",
    "# The <, <=, > and >= operators will raise a TypeError \n",
    "# exception when any operand is a complex number."
   ]
  },
  {
   "cell_type": "markdown",
   "id": "07ad8366",
   "metadata": {},
   "source": [
    "String: "
   ]
  },
  {
   "cell_type": "code",
   "execution_count": 20,
   "id": "ff6a5339",
   "metadata": {},
   "outputs": [
    {
     "data": {
      "text/plain": [
       "'hello'"
      ]
     },
     "execution_count": 20,
     "metadata": {},
     "output_type": "execute_result"
    }
   ],
   "source": [
    "# str: a unicode string\n",
    "'hello'"
   ]
  },
  {
   "cell_type": "code",
   "execution_count": 21,
   "id": "b8b0ef70",
   "metadata": {},
   "outputs": [
    {
     "data": {
      "text/plain": [
       "b'hello'"
      ]
     },
     "execution_count": 21,
     "metadata": {},
     "output_type": "execute_result"
    }
   ],
   "source": [
    "# str: a byte string\n",
    "b'hello'"
   ]
  },
  {
   "cell_type": "markdown",
   "id": "86b2e0ac",
   "metadata": {},
   "source": [
    "Sequences and collections:"
   ]
  },
  {
   "cell_type": "code",
   "execution_count": 16,
   "id": "e3a8ce27",
   "metadata": {},
   "outputs": [
    {
     "data": {
      "text/plain": [
       "('o', 'l', 'l', 'e', 'h')"
      ]
     },
     "execution_count": 16,
     "metadata": {},
     "output_type": "execute_result"
    }
   ],
   "source": [
    "# string(str, bytes, unicode) are sequences \n",
    "a = reversed('hello') # reversed sequences function\n",
    "tuple(a) # str(a), repr(a), ... have no effecient. list(a), tupple(a), ... is working\n",
    "# https://www.programiz.com/python-programming/methods/built-in/reversed"
   ]
  },
  {
   "cell_type": "code",
   "execution_count": 17,
   "id": "f5778732",
   "metadata": {},
   "outputs": [
    {
     "ename": "TypeError",
     "evalue": "'tuple' object does not support item assignment",
     "output_type": "error",
     "traceback": [
      "\u001b[1;31m---------------------------------------------------------------------------\u001b[0m",
      "\u001b[1;31mTypeError\u001b[0m                                 Traceback (most recent call last)",
      "\u001b[1;32m<ipython-input-17-bb10da24b989>\u001b[0m in \u001b[0;36m<module>\u001b[1;34m\u001b[0m\n\u001b[0;32m      2\u001b[0m \u001b[0ma\u001b[0m \u001b[1;33m=\u001b[0m \u001b[1;33m(\u001b[0m\u001b[1;36m1\u001b[0m\u001b[1;33m,\u001b[0m\u001b[1;36m2\u001b[0m\u001b[1;33m,\u001b[0m\u001b[1;36m3\u001b[0m\u001b[1;33m)\u001b[0m\u001b[1;33m\u001b[0m\u001b[1;33m\u001b[0m\u001b[0m\n\u001b[0;32m      3\u001b[0m \u001b[0mb\u001b[0m \u001b[1;33m=\u001b[0m \u001b[1;33m(\u001b[0m\u001b[1;34m'a'\u001b[0m\u001b[1;33m,\u001b[0m \u001b[1;36m1\u001b[0m\u001b[1;33m,\u001b[0m \u001b[1;34m'python'\u001b[0m\u001b[1;33m,\u001b[0m \u001b[1;33m(\u001b[0m\u001b[1;36m1\u001b[0m\u001b[1;33m,\u001b[0m \u001b[1;36m2\u001b[0m\u001b[1;33m)\u001b[0m\u001b[1;33m)\u001b[0m\u001b[1;33m\u001b[0m\u001b[1;33m\u001b[0m\u001b[0m\n\u001b[1;32m----> 4\u001b[1;33m \u001b[0mb\u001b[0m\u001b[1;33m[\u001b[0m\u001b[1;36m2\u001b[0m\u001b[1;33m]\u001b[0m \u001b[1;33m=\u001b[0m \u001b[1;34m'something else'\u001b[0m \u001b[1;31m# returns a TypeError\u001b[0m\u001b[1;33m\u001b[0m\u001b[1;33m\u001b[0m\u001b[0m\n\u001b[0m",
      "\u001b[1;31mTypeError\u001b[0m: 'tuple' object does not support item assignment"
     ]
    }
   ],
   "source": [
    "# tupple:  immutable; hashable if all its members are hashable\n",
    "a = (1,2,3)\n",
    "b = ('a', 1, 'python', (1, 2))\n",
    "b[2] = 'something else' # returns a TypeError"
   ]
  },
  {
   "cell_type": "code",
   "execution_count": 34,
   "id": "f3da5c34",
   "metadata": {},
   "outputs": [
    {
     "name": "stdout",
     "output_type": "stream",
     "text": [
      "[1, 2, 3] ['a', 1, 'something else', (1, 2), [1, 2]]\n"
     ]
    }
   ],
   "source": [
    "# list: Not hashable; mutable.\n",
    "a = [1, 2, 3]\n",
    "b = ['a', 1, 'python', (1, 2), [1, 2]]\n",
    "b[2] = 'something else' # allowed\n",
    "print(a, b)"
   ]
  },
  {
   "cell_type": "code",
   "execution_count": 31,
   "id": "8be8a9d7",
   "metadata": {},
   "outputs": [
    {
     "name": "stdout",
     "output_type": "stream",
     "text": [
      "{1, 2, 'a'}\n"
     ]
    }
   ],
   "source": [
    "# set: An unordered collection of unique values. \n",
    "# Items must be hashable.\n",
    "a = {1, 2, 'a'}\n",
    "print(a)"
   ]
  },
  {
   "cell_type": "code",
   "execution_count": 29,
   "id": "fed95a42",
   "metadata": {},
   "outputs": [
    {
     "name": "stdout",
     "output_type": "stream",
     "text": [
      "{1: 'one', 2: 'two'} {'a': [1, 2, 3], 'b': 'a string'}\n"
     ]
    }
   ],
   "source": [
    "# dict: An unordered collection of unique key-value pairs; \n",
    "# keys must be hashable.\n",
    "a = {1: 'one',\n",
    "     2: 'two'}\n",
    "\n",
    "b = {'a': [1, 2, 3],\n",
    "     'b': 'a string'}\n",
    "\n",
    "print(a, b)"
   ]
  },
  {
   "cell_type": "markdown",
   "id": "8528ea2e",
   "metadata": {},
   "source": [
    "Built-in constants (in book)\n",
    "True, False\n",
    "None\n",
    "Ellipsis or ...:  used in core Python3+ anywhere and limited usage in Python2.7+ as part of array notation.\n",
    "numpy and related packages use this as a 'include everything' reference in arrays.\n",
    "\n",
    "NotImplemented: a singleton used to indicate to Python that a special method doesn't support the specific\n",
    "arguments, and Python will try alternatives if available.\n"
   ]
  },
  {
   "cell_type": "code",
   "execution_count": 36,
   "id": "b934bee9",
   "metadata": {},
   "outputs": [
    {
     "ename": "TypeError",
     "evalue": "'<' not supported between instances of 'NoneType' and 'int'",
     "output_type": "error",
     "traceback": [
      "\u001b[1;31m---------------------------------------------------------------------------\u001b[0m",
      "\u001b[1;31mTypeError\u001b[0m                                 Traceback (most recent call last)",
      "\u001b[1;32m<ipython-input-36-f4934a22932c>\u001b[0m in \u001b[0;36m<module>\u001b[1;34m\u001b[0m\n\u001b[1;32m----> 1\u001b[1;33m \u001b[1;32mNone\u001b[0m \u001b[1;33m<\u001b[0m \u001b[1;36m5\u001b[0m \u001b[1;31m# error because: None doesn't have any natural ordering\u001b[0m\u001b[1;33m\u001b[0m\u001b[1;33m\u001b[0m\u001b[0m\n\u001b[0m",
      "\u001b[1;31mTypeError\u001b[0m: '<' not supported between instances of 'NoneType' and 'int'"
     ]
    }
   ],
   "source": [
    "None < 5 # error because: None doesn't have any natural ordering"
   ]
  },
  {
   "cell_type": "markdown",
   "id": "ec408839",
   "metadata": {},
   "source": [
    "Testing the type of variables"
   ]
  },
  {
   "cell_type": "code",
   "execution_count": 39,
   "id": "fb2fa606",
   "metadata": {},
   "outputs": [
    {
     "name": "stdout",
     "output_type": "stream",
     "text": [
      "<class 'str'> <class 'int'>\n"
     ]
    }
   ],
   "source": [
    "# type\n",
    "a = '123'\n",
    "b = 123\n",
    "print(type(a), type(b))\n"
   ]
  },
  {
   "cell_type": "code",
   "execution_count": 41,
   "id": "83054041",
   "metadata": {},
   "outputs": [
    {
     "name": "stdout",
     "output_type": "stream",
     "text": [
      "8\n"
     ]
    }
   ],
   "source": [
    "# isinstance\n",
    "i = 7\n",
    "if isinstance(i, int): # or: type(i) == int\n",
    "    i += 1\n",
    "elif isinstance(i, str): # or: type(i) == str\n",
    "    i = int(i)\n",
    "    i += 1\n",
    "print(i)"
   ]
  },
  {
   "cell_type": "code",
   "execution_count": 43,
   "id": "680a235b",
   "metadata": {},
   "outputs": [
    {
     "name": "stdout",
     "output_type": "stream",
     "text": [
      "Not a surprise, I just defined x as None.\n"
     ]
    }
   ],
   "source": [
    "# check None\n",
    "x = None\n",
    "if x is None:\n",
    "    print('Not a surprise, I just defined x as None.')"
   ]
  },
  {
   "cell_type": "markdown",
   "id": "df4f3433",
   "metadata": {},
   "source": [
    "Converting between datatypes"
   ]
  },
  {
   "cell_type": "code",
   "execution_count": 44,
   "id": "0b946adb",
   "metadata": {},
   "outputs": [
    {
     "name": "stdout",
     "output_type": "stream",
     "text": [
      "<class 'str'> <class 'int'>\n"
     ]
    }
   ],
   "source": [
    "a = '123'\n",
    "b = int(a)\n",
    "print(type(a), type(b))"
   ]
  },
  {
   "cell_type": "code",
   "execution_count": 47,
   "id": "5c73c7f4",
   "metadata": {},
   "outputs": [
    {
     "name": "stdout",
     "output_type": "stream",
     "text": [
      "123.456\n",
      "123\n"
     ]
    }
   ],
   "source": [
    "a = '123.456'\n",
    "b = float(a)\n",
    "print(b)\n",
    "# c = int(a) # error\n",
    "d = int(b)\n",
    "print(d)"
   ]
  },
  {
   "cell_type": "code",
   "execution_count": 48,
   "id": "739de83f",
   "metadata": {},
   "outputs": [
    {
     "name": "stdout",
     "output_type": "stream",
     "text": [
      "['h', 'e', 'l', 'l', 'o']\n",
      "{'h', 'o', 'e', 'l'}\n",
      "('h', 'e', 'l', 'l', 'o')\n"
     ]
    }
   ],
   "source": [
    "# sequence or collection\n",
    "a = 'hello'\n",
    "print(list(a))\n",
    "print(set(a))\n",
    "print(tuple(a)) "
   ]
  },
  {
   "cell_type": "markdown",
   "id": "d46cfcf5",
   "metadata": {},
   "source": [
    "Explicit string type at definition of literals"
   ]
  },
  {
   "cell_type": "code",
   "execution_count": 51,
   "id": "60e6cdba",
   "metadata": {},
   "outputs": [
    {
     "data": {
      "text/plain": [
       "'foo bar'"
      ]
     },
     "execution_count": 51,
     "metadata": {},
     "output_type": "execute_result"
    }
   ],
   "source": [
    "b'foo bar' # bytes\n",
    "u'foo bar' # unicode\n",
    "'foo bar' # str\n",
    "r'foo bar' # raw string "
   ]
  },
  {
   "cell_type": "code",
   "execution_count": 54,
   "id": "d4de5ec7",
   "metadata": {},
   "outputs": [
    {
     "name": "stdout",
     "output_type": "stream",
     "text": [
      "foo\n",
      "bar;foo\\nbar;foo\\nbar\n"
     ]
    }
   ],
   "source": [
    "normal = 'foo\\nbar'\n",
    "escaped = 'foo\\\\nbar'\n",
    "raw = r'foo\\nbar' \n",
    "print(normal, escaped, raw, sep = ';')"
   ]
  },
  {
   "cell_type": "markdown",
   "id": "cee75410",
   "metadata": {},
   "source": [
    "Mutable and Immutable Data Types"
   ]
  },
  {
   "cell_type": "code",
   "execution_count": 56,
   "id": "b40aa6a6",
   "metadata": {},
   "outputs": [
    {
     "data": {
      "text/plain": [
       "False"
      ]
     },
     "execution_count": 56,
     "metadata": {},
     "output_type": "execute_result"
    }
   ],
   "source": [
    "# An object is called mutable if it can be changed\n",
    "def f(m):\n",
    "    m.append(3) # adds a number to the list. This is a mutation.\n",
    "x = [1, 2]\n",
    "f(x)\n",
    "x == [1, 2] # False now, since an item was added to the list"
   ]
  },
  {
   "cell_type": "code",
   "execution_count": 62,
   "id": "38ca80bf",
   "metadata": {},
   "outputs": [
    {
     "ename": "TypeError",
     "evalue": "'tuple' object does not support item assignment",
     "output_type": "error",
     "traceback": [
      "\u001b[1;31m---------------------------------------------------------------------------\u001b[0m",
      "\u001b[1;31mTypeError\u001b[0m                                 Traceback (most recent call last)",
      "\u001b[1;32m<ipython-input-62-1e2c44667c21>\u001b[0m in \u001b[0;36m<module>\u001b[1;34m\u001b[0m\n\u001b[0;32m      1\u001b[0m \u001b[1;31m# An object is called immutable if it cannot be changed in any way\u001b[0m\u001b[1;33m\u001b[0m\u001b[1;33m\u001b[0m\u001b[1;33m\u001b[0m\u001b[0m\n\u001b[0;32m      2\u001b[0m \u001b[0mx\u001b[0m \u001b[1;33m=\u001b[0m \u001b[1;33m(\u001b[0m\u001b[1;36m1\u001b[0m\u001b[1;33m,\u001b[0m \u001b[1;36m2\u001b[0m\u001b[1;33m)\u001b[0m\u001b[1;33m\u001b[0m\u001b[1;33m\u001b[0m\u001b[0m\n\u001b[1;32m----> 3\u001b[1;33m \u001b[0mx\u001b[0m\u001b[1;33m[\u001b[0m\u001b[1;36m0\u001b[0m\u001b[1;33m]\u001b[0m \u001b[1;33m=\u001b[0m \u001b[1;36m5\u001b[0m \u001b[1;31m# error\u001b[0m\u001b[1;33m\u001b[0m\u001b[1;33m\u001b[0m\u001b[0m\n\u001b[0m",
      "\u001b[1;31mTypeError\u001b[0m: 'tuple' object does not support item assignment"
     ]
    }
   ],
   "source": [
    "# An object is called immutable if it cannot be changed in any way\n",
    "x = (1, 2)\n",
    "x[0] = 5 # error"
   ]
  },
  {
   "cell_type": "code",
   "execution_count": 66,
   "id": "6d18971c",
   "metadata": {},
   "outputs": [
    {
     "name": "stdout",
     "output_type": "stream",
     "text": [
      "2325027646528\n",
      "2325027646528\n"
     ]
    }
   ],
   "source": [
    "# address of x:\n",
    "x = [1, 2]\n",
    "print(id(x))\n",
    "x.append(5)\n",
    "print(id(x))"
   ]
  },
  {
   "cell_type": "markdown",
   "id": "1e1de87f",
   "metadata": {},
   "source": [
    "Examples of immutable Data Types:\n",
    "    int, long, float, complex\n",
    "    str\n",
    "    bytes\n",
    "    tuple\n",
    "    frozenset\n",
    "\n",
    "Examples of mutable Data Types:\n",
    "    bytearray\n",
    "    list\n",
    "    set\n",
    "    dict"
   ]
  }
 ],
 "metadata": {
  "kernelspec": {
   "display_name": "Python 3",
   "language": "python",
   "name": "python3"
  },
  "language_info": {
   "codemirror_mode": {
    "name": "ipython",
    "version": 3
   },
   "file_extension": ".py",
   "mimetype": "text/x-python",
   "name": "python",
   "nbconvert_exporter": "python",
   "pygments_lexer": "ipython3",
   "version": "3.8.8"
  }
 },
 "nbformat": 4,
 "nbformat_minor": 5
}
