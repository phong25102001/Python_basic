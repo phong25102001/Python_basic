{
 "cells": [
  {
   "cell_type": "code",
   "execution_count": 49,
   "id": "f4960c80",
   "metadata": {},
   "outputs": [
    {
     "name": "stdout",
     "output_type": "stream",
     "text": [
      "What is your name? Phong\n",
      "have a good day Phong\n"
     ]
    }
   ],
   "source": [
    "name = input(\"What is your name? \") # input default return string type\n",
    "print(\"have a good day \" + name)"
   ]
  },
  {
   "cell_type": "code",
   "execution_count": 51,
   "id": "46d61ae7",
   "metadata": {},
   "outputs": [
    {
     "name": "stdout",
     "output_type": "stream",
     "text": [
      "enter a number: 5\n"
     ]
    }
   ],
   "source": [
    "x = float(input(\"enter a number: \")) \n",
    "# this will raise a error if input is not a number; use try/except \n",
    "# or if/else to avoid "
   ]
  },
  {
   "cell_type": "code",
   "execution_count": null,
   "id": "b15b1400",
   "metadata": {},
   "outputs": [],
   "source": []
  }
 ],
 "metadata": {
  "kernelspec": {
   "display_name": "Python 3",
   "language": "python",
   "name": "python3"
  },
  "language_info": {
   "codemirror_mode": {
    "name": "ipython",
    "version": 3
   },
   "file_extension": ".py",
   "mimetype": "text/x-python",
   "name": "python",
   "nbconvert_exporter": "python",
   "pygments_lexer": "ipython3",
   "version": "3.8.8"
  }
 },
 "nbformat": 4,
 "nbformat_minor": 5
}
