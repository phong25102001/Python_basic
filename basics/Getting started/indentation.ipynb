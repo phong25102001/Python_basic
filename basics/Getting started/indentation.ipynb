{
 "cells": [
  {
   "cell_type": "markdown",
   "id": "74b81146",
   "metadata": {},
   "source": [
    "Python uses the colon symbol (:) and indentation for showing where blocks of code begin and end"
   ]
  },
  {
   "cell_type": "code",
   "execution_count": 2,
   "id": "c55597e9",
   "metadata": {},
   "outputs": [
    {
     "name": "stdout",
     "output_type": "stream",
     "text": [
      "2\n"
     ]
    }
   ],
   "source": [
    "def my_function():\n",
    "    a = 2    # belongs to the function because it's indented \n",
    "    return a # also belongs to the same function\n",
    "print(my_function())"
   ]
  },
  {
   "cell_type": "code",
   "execution_count": 3,
   "id": "54c53b14",
   "metadata": {},
   "outputs": [
    {
     "name": "stdout",
     "output_type": "stream",
     "text": [
      "2\n"
     ]
    }
   ],
   "source": [
    "a = 1\n",
    "b = 2\n",
    "if a > b:        # If block starts \n",
    "    print(a)     # part of the if block\n",
    "else:            # same level as if  \n",
    "    print(b)     # part of the else block"
   ]
  },
  {
   "cell_type": "code",
   "execution_count": 4,
   "id": "24ff5bbf",
   "metadata": {},
   "outputs": [
    {
     "name": "stdout",
     "output_type": "stream",
     "text": [
      "2\n"
     ]
    }
   ],
   "source": [
    "# one single-line statement (not a good style)\n",
    "if a > b: print(a)\n",
    "else: print(b)\n",
    "#same as above one"
   ]
  },
  {
   "cell_type": "code",
   "execution_count": 11,
   "id": "e6123686",
   "metadata": {},
   "outputs": [
    {
     "ename": "IndentationError",
     "evalue": "unexpected indent (<ipython-input-11-2e287cefa5ea>, line 3)",
     "output_type": "error",
     "traceback": [
      "\u001b[1;36m  File \u001b[1;32m\"<ipython-input-11-2e287cefa5ea>\"\u001b[1;36m, line \u001b[1;32m3\u001b[0m\n\u001b[1;33m    print(a) # undefined block\u001b[0m\n\u001b[1;37m    ^\u001b[0m\n\u001b[1;31mIndentationError\u001b[0m\u001b[1;31m:\u001b[0m unexpected indent\n"
     ]
    }
   ],
   "source": [
    "#Attempt: error if: \n",
    "if a > b: a = b\n",
    "    print(a) # undefined block\n",
    "    \n",
    "if a > b: while a != b: a -= 1 # too many colon (:)"
   ]
  },
  {
   "cell_type": "code",
   "execution_count": 12,
   "id": "a6ef7127",
   "metadata": {},
   "outputs": [],
   "source": [
    "# Use keyword: pass instead of empty block\n",
    "def do_nothing():\n",
    "    pass\n",
    "\n",
    "do_nothing()"
   ]
  },
  {
   "cell_type": "code",
   "execution_count": null,
   "id": "c7e64361",
   "metadata": {},
   "outputs": [],
   "source": []
  }
 ],
 "metadata": {
  "kernelspec": {
   "display_name": "Python 3",
   "language": "python",
   "name": "python3"
  },
  "language_info": {
   "codemirror_mode": {
    "name": "ipython",
    "version": 3
   },
   "file_extension": ".py",
   "mimetype": "text/x-python",
   "name": "python",
   "nbconvert_exporter": "python",
   "pygments_lexer": "ipython3",
   "version": "3.8.8"
  }
 },
 "nbformat": 4,
 "nbformat_minor": 5
}
