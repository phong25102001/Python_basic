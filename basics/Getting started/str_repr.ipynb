{
 "cells": [
  {
   "cell_type": "code",
   "execution_count": 64,
   "id": "5bc4d542",
   "metadata": {},
   "outputs": [
    {
     "data": {
      "text/plain": [
       "True"
      ]
     },
     "execution_count": 64,
     "metadata": {},
     "output_type": "execute_result"
    }
   ],
   "source": [
    "s = \"\"\"w'o\"w\"\"\"\n",
    "repr(s) # Output: '\\'w\\\\\\'o\"w\\''\n",
    "str(s) # Output: 'w\\'o\"w'\n",
    "# eval(str(s)) == s # Gives a SyntaxError\n",
    "eval(repr(s)) == s # Output: True"
   ]
  },
  {
   "cell_type": "code",
   "execution_count": 67,
   "id": "ad3e58b8",
   "metadata": {},
   "outputs": [
    {
     "data": {
      "text/plain": [
       "'2021-07-13 09:50:39.105249'"
      ]
     },
     "execution_count": 67,
     "metadata": {},
     "output_type": "execute_result"
    }
   ],
   "source": [
    "import datetime\n",
    "today = datetime.datetime.now()\n",
    "str(today) # Output: '2021-09-15 06:58:46.915000'\n",
    "# repr(today) # Output: 'datetime.datetime(2021, 9, 15, 6, 58, 46, 915000)'"
   ]
  },
  {
   "cell_type": "code",
   "execution_count": 70,
   "id": "4f8e7fbc",
   "metadata": {},
   "outputs": [
    {
     "name": "stdout",
     "output_type": "stream",
     "text": [
      "Representing x as 1 and y as Hopper\n",
      "<bound method Represent.__repr__ of Represent(x=1,y=\"Hopper\")>\n",
      "Represent(x=1,y=\"Hopper\")\n",
      "Representing x as 1 and y as Hopper\n",
      "False\n"
     ]
    }
   ],
   "source": [
    "class Represent(object):\n",
    "    def __init__(self, x, y):\n",
    "        self.x, self.y = x, y\n",
    "    def __repr__(self):\n",
    "        return \"Represent(x={},y=\\\"{}\\\")\".format(self.x, self.y)\n",
    "    def __str__(self):\n",
    "        return \"Representing x as {} and y as {}\".format(self.x, self.y)\n",
    "\n",
    "r = Represent(1, \"Hopper\")\n",
    "print(r) # prints __str__\n",
    "print(r.__repr__) # prints __repr__: '<bound method Represent.__repr__ of Represent(x=1,y=\"Hopper\")>'\n",
    "rep = r.__repr__() # sets the execution of __repr__ to a new variable\n",
    "print(rep) # prints 'Represent(x=1,y=\"Hopper\")'\n",
    "r2 = eval(rep) # evaluates rep\n",
    "print(r2) # prints __str__ from new object\n",
    "print(r2 == r) # prints 'False' because they are different objects "
   ]
  },
  {
   "cell_type": "code",
   "execution_count": null,
   "id": "89a6653f",
   "metadata": {},
   "outputs": [],
   "source": []
  }
 ],
 "metadata": {
  "kernelspec": {
   "display_name": "Python 3",
   "language": "python",
   "name": "python3"
  },
  "language_info": {
   "codemirror_mode": {
    "name": "ipython",
    "version": 3
   },
   "file_extension": ".py",
   "mimetype": "text/x-python",
   "name": "python",
   "nbconvert_exporter": "python",
   "pygments_lexer": "ipython3",
   "version": "3.8.8"
  }
 },
 "nbformat": 4,
 "nbformat_minor": 5
}
