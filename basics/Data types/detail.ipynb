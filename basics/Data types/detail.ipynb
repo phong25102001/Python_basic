{
 "cells": [
  {
   "cell_type": "markdown",
   "id": "fc09e6b3",
   "metadata": {},
   "source": [
    "String: "
   ]
  },
  {
   "cell_type": "code",
   "execution_count": 71,
   "id": "3d33acac",
   "metadata": {},
   "outputs": [
    {
     "name": "stdout",
     "output_type": "stream",
     "text": [
      "Hello World\n",
      "H\n",
      "Hello\n"
     ]
    }
   ],
   "source": [
    "\"\"\"Strings are immutable sequence data type, i.e each time one makes any changes\n",
    "to a string, completely new string object is created\"\"\"\n",
    "a_str = 'Hello World'\n",
    "print(a_str) #output will be whole string. Hello World\n",
    "print(a_str[0]) #output will be first character. H\n",
    "print(a_str[0:5]) #output will be first five characters. Hello"
   ]
  },
  {
   "cell_type": "markdown",
   "id": "96879945",
   "metadata": {},
   "source": [
    "Set:"
   ]
  },
  {
   "cell_type": "code",
   "execution_count": 73,
   "id": "6a6a68b9",
   "metadata": {},
   "outputs": [
    {
     "name": "stdout",
     "output_type": "stream",
     "text": [
      "{'pear', 'apple', 'banana', 'orange'}\n",
      "{'b', 'd', 'c', 'r', 'a'}\n",
      "{'b', 'd', 'c', 'r', 'z', 'a'}\n"
     ]
    }
   ],
   "source": [
    "# 1: set: mutable\n",
    "basket = {'apple', 'orange', 'apple', 'pear', 'orange', 'banana'}\n",
    "print(basket) # duplicates will be removed\n",
    "\n",
    "a = set('abracadabra')\n",
    "print(a) # unique letters in a\n",
    "\n",
    "a.add('z')\n",
    "print(a)"
   ]
  },
  {
   "cell_type": "code",
   "execution_count": 77,
   "id": "70266a8b",
   "metadata": {},
   "outputs": [
    {
     "name": "stdout",
     "output_type": "stream",
     "text": [
      "frozenset({'f', 's', 'g', 'd', 'a'})\n"
     ]
    },
    {
     "ename": "AttributeError",
     "evalue": "'frozenset' object has no attribute 'add'",
     "output_type": "error",
     "traceback": [
      "\u001b[1;31m---------------------------------------------------------------------------\u001b[0m",
      "\u001b[1;31mAttributeError\u001b[0m                            Traceback (most recent call last)",
      "\u001b[1;32m<ipython-input-77-b59c1d2f7410>\u001b[0m in \u001b[0;36m<module>\u001b[1;34m\u001b[0m\n\u001b[0;32m      2\u001b[0m \u001b[0mb\u001b[0m \u001b[1;33m=\u001b[0m \u001b[0mfrozenset\u001b[0m\u001b[1;33m(\u001b[0m\u001b[1;34m'asdfagsa'\u001b[0m\u001b[1;33m)\u001b[0m\u001b[1;33m\u001b[0m\u001b[1;33m\u001b[0m\u001b[0m\n\u001b[0;32m      3\u001b[0m \u001b[0mprint\u001b[0m\u001b[1;33m(\u001b[0m\u001b[0mb\u001b[0m\u001b[1;33m)\u001b[0m\u001b[1;33m\u001b[0m\u001b[1;33m\u001b[0m\u001b[0m\n\u001b[1;32m----> 4\u001b[1;33m \u001b[0mb\u001b[0m\u001b[1;33m.\u001b[0m\u001b[0madd\u001b[0m\u001b[1;33m(\u001b[0m\u001b[1;34m'z'\u001b[0m\u001b[1;33m)\u001b[0m \u001b[1;31m# error because immutable\u001b[0m\u001b[1;33m\u001b[0m\u001b[1;33m\u001b[0m\u001b[0m\n\u001b[0m",
      "\u001b[1;31mAttributeError\u001b[0m: 'frozenset' object has no attribute 'add'"
     ]
    }
   ],
   "source": [
    "# 2: Frozen set: immutable\n",
    "b = frozenset('asdfagsa')\n",
    "print(b)\n",
    "b.add('z') # error because immutable"
   ]
  },
  {
   "cell_type": "markdown",
   "id": "0650e364",
   "metadata": {},
   "source": [
    "Number: "
   ]
  },
  {
   "cell_type": "code",
   "execution_count": 82,
   "id": "bbb064ec",
   "metadata": {},
   "outputs": [],
   "source": [
    "int_num = 10 #int value\n",
    "float_num = 10.2 #float value\n",
    "complex_num = 3.14j #complex value"
   ]
  },
  {
   "cell_type": "markdown",
   "id": "fe55b48a",
   "metadata": {},
   "source": [
    "List:"
   ]
  },
  {
   "cell_type": "code",
   "execution_count": 83,
   "id": "788e05d4",
   "metadata": {},
   "outputs": [
    {
     "name": "stdout",
     "output_type": "stream",
     "text": [
      "[123, 'abcd', 10.2, 'd']\n",
      "[123, 'abcd']\n",
      "['hello', 'world', 'hello', 'world']\n",
      "[123, 'abcd', 10.2, 'd', 'hello', 'world']\n"
     ]
    },
    {
     "data": {
      "text/plain": [
       "[123, 'abcd', 10.2, 'd', 'hello', 'world']"
      ]
     },
     "execution_count": 83,
     "metadata": {},
     "output_type": "execute_result"
    }
   ],
   "source": [
    "list = [123,'abcd',10.2,'d'] #can be an array of any data type or single data type.\n",
    "list1 = ['hello','world']\n",
    "print(list) #will output whole list. [123,'abcd',10.2,'d']\n",
    "print(list[0:2]) #will output first two element of list. [123,'abcd']\n",
    "print(list1 * 2) #will gave list1 two times. ['hello','world','hello','world']\n",
    "print(list + list1) #will gave concatenation of both the lists.\n",
    "[123,'abcd',10.2,'d','hello','world']"
   ]
  },
  {
   "cell_type": "markdown",
   "id": "fa395acb",
   "metadata": {},
   "source": [
    "Dictionary: "
   ]
  },
  {
   "cell_type": "code",
   "execution_count": 1,
   "id": "a75fc535",
   "metadata": {},
   "outputs": [
    {
     "name": "stdout",
     "output_type": "stream",
     "text": [
      "{'name': 'red', 'age': 10}\n",
      "red\n",
      "dict_values(['red', 10])\n",
      "dict_keys(['name', 'age'])\n"
     ]
    }
   ],
   "source": [
    "dic={'name':'red','age':10}\n",
    "print(dic) #will output all the key-value pairs. {'name':'red','age':10}\n",
    "print(dic['name']) #will output only value with 'name' key. 'red'\n",
    "print(dic.values()) #will output list of values in dic. ['red',10]\n",
    "print(dic.keys()) #will output list of keys. ['name','age']"
   ]
  },
  {
   "cell_type": "markdown",
   "id": "693af8f5",
   "metadata": {},
   "source": [
    "Tuple:"
   ]
  },
  {
   "cell_type": "code",
   "execution_count": 88,
   "id": "25744d3f",
   "metadata": {},
   "outputs": [
    {
     "name": "stdout",
     "output_type": "stream",
     "text": [
      "(123, 'hello')\n",
      "123\n",
      "(123, 'hello', 'world')\n"
     ]
    }
   ],
   "source": [
    "tuple1 = (123, 'hello')\n",
    "tuple2 = ('world',)\n",
    "print(tuple1) #will output whole tuple. (123,'hello')\n",
    "print(tuple1[0]) #will output first value. (123)\n",
    "print(tuple1 + tuple2) #will output (123,'hello','world')\n",
    "# tuple1[1]='update' #this will give you error."
   ]
  },
  {
   "cell_type": "code",
   "execution_count": null,
   "id": "fe0be67f",
   "metadata": {},
   "outputs": [],
   "source": []
  }
 ],
 "metadata": {
  "kernelspec": {
   "display_name": "Python 3",
   "language": "python",
   "name": "python3"
  },
  "language_info": {
   "codemirror_mode": {
    "name": "ipython",
    "version": 3
   },
   "file_extension": ".py",
   "mimetype": "text/x-python",
   "name": "python",
   "nbconvert_exporter": "python",
   "pygments_lexer": "ipython3",
   "version": "3.8.8"
  }
 },
 "nbformat": 4,
 "nbformat_minor": 5
}
